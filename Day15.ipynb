{
 "cells": [
  {
   "cell_type": "code",
   "execution_count": 18,
   "metadata": {},
   "outputs": [],
   "source": [
    "def readin(filename):\n",
    "    with open(filename) as f:\n",
    "        lines = f.readlines()\n",
    "\n",
    "    #something to remove \\n \n",
    "    str_lines = []\n",
    "    for l in lines:\n",
    "        if l[-1:]==\"\\n\":\n",
    "            str_lines.append(l[0:-1])\n",
    "        else: \n",
    "            str_lines.append(l)\n",
    "\n",
    "    #check all was fine\n",
    "    # print(lines[-2:])\n",
    "    # print(str_lines[-2:])\n",
    "    return str_lines\n",
    "\n",
    "elf_data = readin(\"Day15input.txt\")"
   ]
  },
  {
   "attachments": {},
   "cell_type": "markdown",
   "metadata": {},
   "source": [
    "# --- Day 15: Beacon Exclusion Zone ---\n",
    "\n",
    "You feel the ground rumble again as the distress signal leads you to a large network of subterranean tunnels. You don't have time to search them all, but you don't need to: your pack contains a set of deployable sensors that you imagine were originally built to locate lost Elves.\n",
    "\n",
    "The sensors aren't very powerful, but that's okay; your handheld device indicates that you're close enough to the source of the distress signal to use them. You pull the emergency sensor system out of your pack, hit the big button on top, and the sensors zoom off down the tunnels.\n",
    "\n",
    "Once a sensor finds a spot it thinks will give it a good reading, it attaches itself to a hard surface and begins monitoring for the nearest signal source beacon. Sensors and beacons always exist at integer coordinates. Each sensor knows its own position and can determine the position of a beacon precisely; however, sensors can only lock on to the one beacon closest to the sensor as measured by the Manhattan distance. (There is never a tie where two beacons are the same distance to a sensor.)\n",
    "\n",
    "It doesn't take long for the sensors to report back their positions and closest beacons (your puzzle input). For example:\n"
   ]
  },
  {
   "cell_type": "code",
   "execution_count": 19,
   "metadata": {},
   "outputs": [],
   "source": [
    "test_data = [\"Sensor at x=2, y=18: closest beacon is at x=-2, y=15\",\n",
    "\"Sensor at x=9, y=16: closest beacon is at x=10, y=16\",\n",
    "\"Sensor at x=13, y=2: closest beacon is at x=15, y=3\",\n",
    "\"Sensor at x=12, y=14: closest beacon is at x=10, y=16\",\n",
    "\"Sensor at x=10, y=20: closest beacon is at x=10, y=16\",\n",
    "\"Sensor at x=14, y=17: closest beacon is at x=10, y=16\",\n",
    "\"Sensor at x=8, y=7: closest beacon is at x=2, y=10\",\n",
    "\"Sensor at x=2, y=0: closest beacon is at x=2, y=10\",\n",
    "\"Sensor at x=0, y=11: closest beacon is at x=2, y=10\",\n",
    "\"Sensor at x=20, y=14: closest beacon is at x=25, y=17\",\n",
    "\"Sensor at x=17, y=20: closest beacon is at x=21, y=22\",\n",
    "\"Sensor at x=16, y=7: closest beacon is at x=15, y=3\",\n",
    "\"Sensor at x=14, y=3: closest beacon is at x=15, y=3\",\n",
    "\"Sensor at x=20, y=1: closest beacon is at x=15, y=3\"]"
   ]
  },
  {
   "cell_type": "code",
   "execution_count": 20,
   "metadata": {},
   "outputs": [],
   "source": [
    "def parse_data(data):\n",
    "    returnData = []\n",
    "    for d in data:\n",
    "        pair = d.split(\":\")\n",
    "        sensor = pair[0].split(\",\")\n",
    "        d1 = eval(sensor[0].removeprefix(\"Sensor at x=\"))\n",
    "        d2 = eval(sensor[1].removeprefix(\" y=\"))\n",
    "        beacon = pair[1].split(\",\")\n",
    "        d3 = eval(beacon[0].removeprefix(\" closest beacon is at x=\"))\n",
    "        d4 = eval(beacon[1].removeprefix(\" y=\"))\n",
    "        manhattan = abs(d3-d1) + abs(d4-d2)\n",
    "        upper = d2+manhattan\n",
    "        lower = d2-manhattan\n",
    "        returnData.append([d1, d2, d3, d4, manhattan, upper, lower])\n",
    "        #print(d1, d2, d3, d4)\n",
    "    return returnData\n",
    "\n",
    "parsed_test_data = parse_data(test_data)\n",
    "parsed_elf_data = parse_data(elf_data)\n",
    "\n",
    "import sys"
   ]
  },
  {
   "attachments": {},
   "cell_type": "markdown",
   "metadata": {},
   "source": [
    "\n",
    "So, consider the sensor at 2,18; the closest beacon to it is at -2,15. For the sensor at 9,16, the closest beacon to it is at 10,16.\n",
    "\n",
    "Drawing sensors as S and beacons as B, the above arrangement of sensors and beacons looks like this:\n",
    "\n",
    "                1    1    2    2\n",
    "        0    5    0    5    0    5\n",
    "    0 ....S.......................\n",
    "    1 ......................S.....\n",
    "    2 ...............S............\n",
    "    3 ................SB..........\n",
    "    4 ............................\n",
    "    5 ............................\n",
    "    6 ............................\n",
    "    7 ..........S.......S.........\n",
    "    8 ............................\n",
    "    9 ............................\n",
    "    10 ....B.......................\n",
    "    11 ..S.........................\n",
    "    12 ............................\n",
    "    13 ............................\n",
    "    14 ..............S.......S.....\n",
    "    15 B...........................\n",
    "    16 ...........SB...............\n",
    "    17 ................S..........B\n",
    "    18 ....S.......................\n",
    "    19 ............................\n",
    "    20 ............S......S........\n",
    "    21 ............................\n",
    "    22 .......................B....\n"
   ]
  },
  {
   "cell_type": "code",
   "execution_count": 21,
   "metadata": {},
   "outputs": [],
   "source": [
    "def get_grid_dim(pd):\n",
    "    min_x = pd[0][0]\n",
    "    max_x = pd[0][0]\n",
    "    # min_y = pd[0][1]\n",
    "    # max_y = pd[0][1]\n",
    "    for j in pd:\n",
    "        # print(i)\n",
    "        # print(j)\n",
    "        # print(j[0])\n",
    "        # print(j[1])\n",
    "        # min_y = min(j[1], j[3], min_y)\n",
    "        # max_y = max(j[1], j[3], max_y)\n",
    "        min_x = min(j[0], j[2], min_x)\n",
    "        max_x = max(j[0], j[2], max_x)\n",
    "\n",
    "    return (min_x, max_x)"
   ]
  },
  {
   "attachments": {},
   "cell_type": "markdown",
   "metadata": {},
   "source": [
    "\n",
    "This isn't necessarily a comprehensive map of all beacons in the area, though. Because each sensor only identifies its closest beacon, if a sensor detects a beacon, you know there are no other beacons that close or closer to that sensor. There could still be beacons that just happen to not be the closest beacon to any sensor. Consider the sensor at 8,7:\n",
    "\n",
    "                1    1    2    2\n",
    "        0    5    0    5    0    5\n",
    "    -2 ..........#.................\n",
    "    -1 .........###................\n",
    "    0 ....S...#####...............\n",
    "    1 .......#######........S.....\n",
    "    2 ......#########S............\n",
    "    3 .....###########SB..........\n",
    "    4 ....#############...........\n",
    "    5 ...###############..........\n",
    "    6 ..#################.........\n",
    "    7 .#########S#######S#........\n",
    "    8 ..#################.........\n",
    "    9 ...###############..........\n",
    "    10 ....B############...........\n",
    "    11 ..S..###########............\n",
    "    12 ......#########.............\n",
    "    13 .......#######..............\n",
    "    14 ........#####.S.......S.....\n",
    "    15 B........###................\n",
    "    16 ..........#SB...............\n",
    "    17 ................S..........B\n",
    "    18 ....S.......................\n",
    "    19 ............................\n",
    "    20 ............S......S........\n",
    "    21 ............................\n",
    "    22 .......................B....\n",
    "\n",
    "This sensor's closest beacon is at 2,10, and so you know there are no beacons that close or closer (in any positions marked #).\n"
   ]
  },
  {
   "cell_type": "code",
   "execution_count": 22,
   "metadata": {},
   "outputs": [],
   "source": [
    "def get_sensors_or_beacons(parsed_data, min_x, s_or_b):\n",
    "    coords = {}\n",
    "    if s_or_b == \"S\":\n",
    "        key = 1\n",
    "    else:\n",
    "        key = 3\n",
    "    for p in parsed_data:\n",
    "    # sensor_x = sensor[0]-min_x\n",
    "    # sensor_y = sensor[1]  # no need to normalise to 0 index\n",
    "    # beacon_x = sensor[2]-min_x\n",
    "    # beacon_y = sensor[3]\n",
    "    # s0 = s0+1\n",
    "    # print(\"Checking sensor \", s0, \" of \", s)\n",
    "        x = p[key-1] - min_x\n",
    "        if p[key] in coords.keys():\n",
    "            if key == 1 or (key == 3 and x not in coords[p[key]]):\n",
    "                coords[p[key]].append(x)\n",
    "        else:\n",
    "            coords[p[key]] = [x]\n",
    "    return coords\n",
    "        \n"
   ]
  },
  {
   "cell_type": "code",
   "execution_count": 23,
   "metadata": {},
   "outputs": [],
   "source": [
    "def setup_row_from_scratch(new_line, sensors_in_row, beacons_in_row):\n",
    "    # s = len(parsed_data)\n",
    "    # s0 = 0\n",
    "    # # print(\"Empty row set up, checking \", s, \" sensors\")\n",
    "    if sensors_in_row is not None:\n",
    "        for sensor in sensors_in_row:\n",
    "        # sensor_x = sensor[0]-min_x\n",
    "        # sensor_y = sensor[1]  # no need to normalise to 0 index\n",
    "        # beacon_x = sensor[2]-min_x\n",
    "        # beacon_y = sensor[3]\n",
    "        # s0 = s0+1\n",
    "        # print(\"Checking sensor \", s0, \" of \", s)\n",
    "            new_line[sensor] = \"S\"\n",
    "            # print(\"sensor added at \", sensor_x, row_num)\n",
    "    if beacons_in_row is not None:\n",
    "        for beacon in beacons_in_row:\n",
    "            new_line[beacon] =  \"B\"\n",
    "            # print(\"beacon added at \", beacon_x, row_num)\n",
    "    # print(\"Finished, returning row\")\n",
    "    return new_line\n"
   ]
  },
  {
   "cell_type": "code",
   "execution_count": 24,
   "metadata": {},
   "outputs": [],
   "source": [
    "def check_row_from_scratch(row, row_no, min_x, max_x, parsed_data):\n",
    "    coords = []\n",
    "    for sensor in parsed_data:\n",
    "        if row_no in range(sensor[6], sensor[5]+1): #shoudl this be sensor[5]+1?\n",
    "            x_range = sensor[4] - abs(sensor[1] - row_no) \n",
    "            x_left = sensor[0]-min_x - x_range\n",
    "            x_left = max(x_left, 0)\n",
    "            x_right = sensor[0]-min_x + x_range\n",
    "            x_right = min(x_right, (len(row)-1))\n",
    "            if (x_left, x_right) not in coords:\n",
    "                coords.append((x_left, x_right))\n",
    "            #print(\"Checking sensor at \", sensor_x, sensor_y, \" over range \", x_left, x_right)\n",
    "    coords.sort()\n",
    "    current_left = coords[0][0]\n",
    "    current_right = coords[0][1]\n",
    "    na = 0#row.count(\"S\") #+ row.count(\"B\")\n",
    "    \n",
    "    if current_left>min_x:\n",
    "        (poss, poss_found) = check_for_availables(row, min_x, current_left, -1, False)\n",
    "    else:\n",
    "        poss = -1\n",
    "        poss_found = False\n",
    "        \n",
    "    end_reached = False\n",
    "\n",
    "    i = -1\n",
    "    while i<(len(coords)-1) and end_reached == False:\n",
    "        i = i+1\n",
    "        #print(coords[i], i, len(coords))\n",
    "        if coords[i][0] in range(current_left, current_right+1):  #if x in current coords\n",
    "            if coords[i][1] not in range(current_left, current_right+1):    \n",
    "                current_right = coords[i][1]  # extend current coords\n",
    "        else:  #assume x greater than current, start a new coord, process the last one\n",
    "            if not poss_found:\n",
    "                (poss, poss_found) = check_for_availables(row, current_right+1, coords[i][0], poss, poss_found)\n",
    "            na=na+current_right-current_left+1\n",
    "            current_left = coords[i][0]\n",
    "            current_right = coords[i][1]\n",
    "        if current_right == len(coords):\n",
    "            end_reached = True\n",
    "            na=na+current_right-current_left+1\n",
    "    if not poss_found:\n",
    "                (poss, poss_found) = check_for_availables(row, current_right+1, len(row)+min_x, poss, poss_found)\n",
    "                # temp_slice = row[current_right+1:len(row)]\n",
    "                # if temp_slice.__contains__(\".\"): #check for available positions \n",
    "                #     poss = temp_slice.index(\".\")+current_right+1\n",
    "                #     poss_found = True\n",
    "    # if not poss_found and row[current_right+1:len(row)].__contains__(\".\"):\n",
    "    #     poss = row[pointer:len(row)].index(\".\")+pointer\n",
    "    \n",
    "    # for c in coords2:    \n",
    "    #     na = na+row[c[0]:c[1]+1].count(\".\")\n",
    "    #     if not poss_found and row[pointer:c[0]].__contains__(\".\"):\n",
    "    #         poss = row[pointer:c[0]].index(\".\")+pointer\n",
    "    #         poss_found = True\n",
    "    #     pointer = c[1]+1\n",
    "    return (na, poss)\n",
    "\n",
    "\n",
    "\n",
    "    \n",
    "\n",
    "def check_for_availables(row, start, end, poss, poss_found):\n",
    "    temp_slice = row[start:end]\n",
    "    if temp_slice.__contains__(\".\"): #check for available positions \n",
    "        poss = temp_slice.index(\".\")+start\n",
    "        poss_found = True\n",
    "    return poss, poss_found"
   ]
  },
  {
   "attachments": {},
   "cell_type": "markdown",
   "metadata": {},
   "source": [
    "\n",
    "None of the detected beacons seem to be producing the distress signal, so you'll need to work out where the distress beacon is by working out where it isn't. For now, keep things simple by counting the positions where a beacon cannot possibly be along just a single row.\n",
    "\n",
    "So, suppose you have an arrangement of beacons and sensors like in the example above and, just in the row where y=10, you'd like to count the number of positions a beacon cannot possibly exist. The coverage from all sensors near that row looks like this:\n",
    "\n",
    "                    1    1    2    2\n",
    "        0    5    0    5    0    5\n",
    "    9 ...#########################...\n",
    "    10 ..####B######################..\n",
    "    11 .###S#############.###########.\n"
   ]
  },
  {
   "cell_type": "code",
   "execution_count": 25,
   "metadata": {},
   "outputs": [],
   "source": [
    "def explore_row(row_num, parsed_data, min_x, max_x, part, sensors, beacons):\n",
    "    new_line = []\n",
    "    for x in range(min_x, max_x+1):    \n",
    "        new_line.append(\".\")\n",
    "    # print(\"get grid_dim \", min_x, max_x, \" now starting setup row \", row_num)\n",
    "    if row_num not in sensors.keys():\n",
    "        sensors_in_row = None\n",
    "    else: \n",
    "        sensors_in_row = sensors[row_num]\n",
    "    if row_num not in beacons.keys():\n",
    "        beacons_in_row = None\n",
    "    else: \n",
    "        beacons_in_row = beacons[row_num]\n",
    "    row = setup_row_from_scratch(new_line.copy(), sensors_in_row, beacons_in_row)\n",
    "    # print(\"Row set up length \", len(row), \" starting to check row \", row_num)\n",
    "    return check_row_from_scratch(row, row_num, min_x, max_x, parsed_data)"
   ]
  },
  {
   "cell_type": "code",
   "execution_count": 26,
   "metadata": {},
   "outputs": [],
   "source": [
    "def test(parsed_data, part, is_test, row_num):\n",
    "    if part == 1:\n",
    "        (min_x, max_x) = get_grid_dim(parsed_data)\n",
    "        min_x = min(min_x, -3000000)\n",
    "        max_x = max(max_x, 8000000)\n",
    "    elif is_test: \n",
    "        min_x = 0\n",
    "        max_x = 20\n",
    "    else: \n",
    "        min_x = 0\n",
    "        max_x = 4000000\n",
    "    sensors = get_sensors_or_beacons(parsed_data, min_x, \"S\")\n",
    "    beacons = get_sensors_or_beacons(parsed_data, min_x, \"B\")\n",
    "    if part == 1:\n",
    "        return explore_row(row_num, parsed_data, min_x, max_x, part, sensors, beacons)\n",
    "    else:\n",
    "        return look_for_tuning_freq(parsed_data, is_test, min_x, max_x, part, sensors, beacons)\n",
    "\n",
    "def look_for_tuning_freq(parsed_data, is_test, min_x, max_x, part, sensors, beacons):\n",
    "    y = 0\n",
    "    found = False\n",
    "    limit = 20\n",
    "    if not is_test:\n",
    "        limit = 4000000\n",
    "    notavailable3 = max_x\n",
    "    possible3 = -1\n",
    "    while y<limit and found is False:\n",
    "        (notavailable3, possible3) = explore_row(y, parsed_data, min_x, max_x, part, sensors, beacons)\n",
    "        if y%10 == 0:\n",
    "            print(y, notavailable3, possible3, min_x, max_x)\n",
    "        if possible3 > -1 and possible3-min_x <= max_x:\n",
    "            found = True\n",
    "        else: \n",
    "            y = y+1\n",
    "    print(notavailable3, possible3, y, min_x, max_x)\n",
    "    return calc_tuning_frequency(possible3,y)\n",
    "\n",
    "def calc_tuning_frequency(x, y):\n",
    "    return ((x*4000000)+y)"
   ]
  },
  {
   "cell_type": "code",
   "execution_count": 27,
   "metadata": {},
   "outputs": [
    {
     "name": "stdout",
     "output_type": "stream",
     "text": [
      "(0, 3000025)\n"
     ]
    }
   ],
   "source": [
    "print(test(parsed_test_data, 1, True, 10))"
   ]
  },
  {
   "cell_type": "markdown",
   "metadata": {},
   "source": [
    "\n",
    "In this example, in the row where y=10, there are 26 positions where a beacon cannot be present.\n",
    "\n",
    "Consult the report from the sensors you just deployed. In the row where y=2000000, how many positions cannot contain a beacon?"
   ]
  },
  {
   "cell_type": "code",
   "execution_count": 11,
   "metadata": {},
   "outputs": [],
   "source": [
    "#print(test(parsed_elf_data, 1, False, 2000000))"
   ]
  },
  {
   "attachments": {},
   "cell_type": "markdown",
   "metadata": {},
   "source": [
    "# --- Part Two ---\n",
    "\n",
    "Your handheld device indicates that the distress signal is coming from a beacon nearby. The distress beacon is not detected by any sensor, but the distress beacon must have x and y coordinates each no lower than 0 and no larger than 4000000.\n",
    "\n",
    "To isolate the distress beacon's signal, you need to determine its tuning frequency, which can be found by multiplying its x coordinate by 4000000 and then adding its y coordinate.\n",
    "\n",
    "In the example above, the search space is smaller: instead, the x and y coordinates can each be at most 20. With this reduced search area, there is only a single position that could have a beacon: x=14, y=11. The tuning frequency for this distress beacon is 56000011.\n",
    "\n",
    "Find the only possible position for the distress beacon. What is its tuning frequency?\n",
    "\n"
   ]
  },
  {
   "cell_type": "code",
   "execution_count": 12,
   "metadata": {},
   "outputs": [],
   "source": [
    "#print(test(parsed_test_data, 2, True, -1))\n",
    "#beacon: x=14, y=11. The tuning frequency for this distress beacon is 56000011."
   ]
  },
  {
   "cell_type": "code",
   "execution_count": 13,
   "metadata": {},
   "outputs": [],
   "source": [
    "#print(test(parsed_elf_data, 2, False, -1))\n"
   ]
  },
  {
   "attachments": {},
   "cell_type": "markdown",
   "metadata": {},
   "source": [
    "*108000000 is too low*"
   ]
  },
  {
   "cell_type": "code",
   "execution_count": 14,
   "metadata": {},
   "outputs": [
    {
     "name": "stdout",
     "output_type": "stream",
     "text": [
      "4400000.0  secs\n",
      "73333.33333333333  mins\n",
      "1222.2222222222222  hours\n",
      "50.925925925925924  days\n",
      "0.13952308472856417  years\n"
     ]
    }
   ],
   "source": [
    "def calc(num_sec_for_10, mult):\n",
    "    secs = num_sec_for_10*(mult/10)\n",
    "    print(secs, \" secs\")\n",
    "    mins = secs/60\n",
    "    print(mins, \" mins\")\n",
    "    hours = mins/60\n",
    "    print(hours, \" hours\")\n",
    "    days = hours/24\n",
    "    print(days, \" days\")\n",
    "    years = days/365\n",
    "    print(years, \" years\")\n",
    "\n",
    "calc(11, 4000000)"
   ]
  }
 ],
 "metadata": {
  "kernelspec": {
   "display_name": "Python 3",
   "language": "python",
   "name": "python3"
  },
  "language_info": {
   "codemirror_mode": {
    "name": "ipython",
    "version": 3
   },
   "file_extension": ".py",
   "mimetype": "text/x-python",
   "name": "python",
   "nbconvert_exporter": "python",
   "pygments_lexer": "ipython3",
   "version": "3.9.4"
  },
  "orig_nbformat": 4,
  "vscode": {
   "interpreter": {
    "hash": "1322063094e41d3e3e06a7cc7d9093f553a57061e5bbe07182dbc0955a20ca1e"
   }
  }
 },
 "nbformat": 4,
 "nbformat_minor": 2
}
