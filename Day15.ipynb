{
 "cells": [
  {
   "cell_type": "code",
   "execution_count": 6,
   "metadata": {},
   "outputs": [],
   "source": [
    "def readin(filename):\n",
    "    with open(filename) as f:\n",
    "        lines = f.readlines()\n",
    "\n",
    "    #something to remove \\n \n",
    "    str_lines = []\n",
    "    for l in lines:\n",
    "        if l[-1:]==\"\\n\":\n",
    "            str_lines.append(l[0:-1])\n",
    "        else: \n",
    "            str_lines.append(l)\n",
    "\n",
    "    #check all was fine\n",
    "    print(lines[-2:])\n",
    "    print(str_lines[-2:])\n",
    "    return str_lines\n",
    "\n",
    "#elf_data = readin(\"Day15input.txt\")"
   ]
  },
  {
   "attachments": {},
   "cell_type": "markdown",
   "metadata": {},
   "source": [
    "# --- Day 15: Beacon Exclusion Zone ---\n",
    "\n",
    "You feel the ground rumble again as the distress signal leads you to a large network of subterranean tunnels. You don't have time to search them all, but you don't need to: your pack contains a set of deployable sensors that you imagine were originally built to locate lost Elves.\n",
    "\n",
    "The sensors aren't very powerful, but that's okay; your handheld device indicates that you're close enough to the source of the distress signal to use them. You pull the emergency sensor system out of your pack, hit the big button on top, and the sensors zoom off down the tunnels.\n",
    "\n",
    "Once a sensor finds a spot it thinks will give it a good reading, it attaches itself to a hard surface and begins monitoring for the nearest signal source beacon. Sensors and beacons always exist at integer coordinates. Each sensor knows its own position and can determine the position of a beacon precisely; however, sensors can only lock on to the one beacon closest to the sensor as measured by the Manhattan distance. (There is never a tie where two beacons are the same distance to a sensor.)\n",
    "\n",
    "It doesn't take long for the sensors to report back their positions and closest beacons (your puzzle input). For example:\n"
   ]
  },
  {
   "cell_type": "code",
   "execution_count": 7,
   "metadata": {},
   "outputs": [],
   "source": [
    "test_data = [\"Sensor at x=2, y=18: closest beacon is at x=-2, y=15\",\n",
    "\"Sensor at x=9, y=16: closest beacon is at x=10, y=16\",\n",
    "\"Sensor at x=13, y=2: closest beacon is at x=15, y=3\",\n",
    "\"Sensor at x=12, y=14: closest beacon is at x=10, y=16\",\n",
    "\"Sensor at x=10, y=20: closest beacon is at x=10, y=16\",\n",
    "\"Sensor at x=14, y=17: closest beacon is at x=10, y=16\",\n",
    "\"Sensor at x=8, y=7: closest beacon is at x=2, y=10\",\n",
    "\"Sensor at x=2, y=0: closest beacon is at x=2, y=10\",\n",
    "\"Sensor at x=0, y=11: closest beacon is at x=2, y=10\",\n",
    "\"Sensor at x=20, y=14: closest beacon is at x=25, y=17\",\n",
    "\"Sensor at x=17, y=20: closest beacon is at x=21, y=22\",\n",
    "\"Sensor at x=16, y=7: closest beacon is at x=15, y=3\",\n",
    "\"Sensor at x=14, y=3: closest beacon is at x=15, y=3\",\n",
    "\"Sensor at x=20, y=1: closest beacon is at x=15, y=3\"]"
   ]
  },
  {
   "cell_type": "code",
   "execution_count": 8,
   "metadata": {},
   "outputs": [
    {
     "name": "stdout",
     "output_type": "stream",
     "text": [
      "Sensor at x=2, y=18: closest beacon is at x=-2, y=15\n",
      "2 18 -2 15\n",
      "Sensor at x=9, y=16: closest beacon is at x=10, y=16\n",
      "9 16 10 16\n",
      "Sensor at x=13, y=2: closest beacon is at x=15, y=3\n",
      "13 2 15 3\n",
      "Sensor at x=12, y=14: closest beacon is at x=10, y=16\n",
      "12 14 10 16\n",
      "Sensor at x=10, y=20: closest beacon is at x=10, y=16\n",
      "10 20 10 16\n",
      "Sensor at x=14, y=17: closest beacon is at x=10, y=16\n",
      "14 17 10 16\n",
      "Sensor at x=8, y=7: closest beacon is at x=2, y=10\n",
      "8 7 2 10\n",
      "Sensor at x=2, y=0: closest beacon is at x=2, y=10\n",
      "2 0 2 10\n",
      "Sensor at x=0, y=11: closest beacon is at x=2, y=10\n",
      "0 11 2 10\n",
      "Sensor at x=20, y=14: closest beacon is at x=25, y=17\n",
      "20 14 25 17\n",
      "Sensor at x=17, y=20: closest beacon is at x=21, y=22\n",
      "17 20 21 22\n",
      "Sensor at x=16, y=7: closest beacon is at x=15, y=3\n",
      "16 7 15 3\n",
      "Sensor at x=14, y=3: closest beacon is at x=15, y=3\n",
      "14 3 15 3\n",
      "Sensor at x=20, y=1: closest beacon is at x=15, y=3\n",
      "20 1 15 3\n"
     ]
    }
   ],
   "source": [
    "def parse_data(data):\n",
    "    returnData = []\n",
    "    for d in data:\n",
    "        print(d)\n",
    "        pair = d.split(\":\")\n",
    "        sensor = pair[0].split(\",\")\n",
    "        d1 = eval(sensor[0].removeprefix(\"Sensor at x=\"))\n",
    "        d2 = eval(sensor[1].removeprefix(\" y=\"))\n",
    "        beacon = pair[1].split(\",\")\n",
    "        d3 = eval(beacon[0].removeprefix(\" closest beacon is at x=\"))\n",
    "        d4 = eval(beacon[1].removeprefix(\" y=\"))\n",
    "        returnData.append([d1, d2, d3, d4])\n",
    "        print(d1, d2, d3, d4)\n",
    "    return returnData\n",
    "\n",
    "parsed_test_data = parse_data(test_data)\n",
    "\n"
   ]
  },
  {
   "attachments": {},
   "cell_type": "markdown",
   "metadata": {},
   "source": [
    "\n",
    "So, consider the sensor at 2,18; the closest beacon to it is at -2,15. For the sensor at 9,16, the closest beacon to it is at 10,16.\n",
    "\n",
    "Drawing sensors as S and beacons as B, the above arrangement of sensors and beacons looks like this:\n",
    "\n",
    "                1    1    2    2\n",
    "        0    5    0    5    0    5\n",
    "    0 ....S.......................\n",
    "    1 ......................S.....\n",
    "    2 ...............S............\n",
    "    3 ................SB..........\n",
    "    4 ............................\n",
    "    5 ............................\n",
    "    6 ............................\n",
    "    7 ..........S.......S.........\n",
    "    8 ............................\n",
    "    9 ............................\n",
    "    10 ....B.......................\n",
    "    11 ..S.........................\n",
    "    12 ............................\n",
    "    13 ............................\n",
    "    14 ..............S.......S.....\n",
    "    15 B...........................\n",
    "    16 ...........SB...............\n",
    "    17 ................S..........B\n",
    "    18 ....S.......................\n",
    "    19 ............................\n",
    "    20 ............S......S........\n",
    "    21 ............................\n",
    "    22 .......................B....\n"
   ]
  },
  {
   "cell_type": "code",
   "execution_count": 9,
   "metadata": {},
   "outputs": [],
   "source": [
    "def get_grid_dim(pd):\n",
    "    min_x = pd[0][0]\n",
    "    max_x = pd[0][0]\n",
    "    min_y = pd[0][1]\n",
    "    max_y = pd[0][1]\n",
    "    for j in pd:\n",
    "        # print(i)\n",
    "        # print(j)\n",
    "        # print(j[0])\n",
    "        # print(j[1])\n",
    "        min_y = min(j[1], j[3], min_y)\n",
    "        max_y = max(j[1], j[3], max_y)\n",
    "        min_x = min(j[0], j[2], min_x)\n",
    "        max_x = max(j[0], j[2], max_x)\n",
    "\n",
    "    return (min_x, max_x, min_y, max_y)\n",
    "\n",
    "(min_x, max_x, min_y, max_y) = get_grid_dim(parsed_test_data)\n",
    "\n",
    "def init_grid(min_x, max_x, min_y, max_y):\n",
    "    grid=[]\n",
    "    for y in range(min_y,max_y+1):\n",
    "        new_line = []\n",
    "        for x in range(min_x, max_x+1):    \n",
    "            new_line.append(\".\")\n",
    "        grid.append(new_line)\n",
    "    return grid\n",
    "\n",
    "def printout(st):\n",
    "    for s in st:\n",
    "        print(' '.join([str(c) for c in s])\n",
    ")\n",
    "\n",
    "\n",
    "# grid = init_grid(min_x, max_x, min_y, max_y)\n",
    "# printout(grid)\n",
    "\n",
    "# grid[1][2] = 2   #[y,x]\n",
    "# print(grid)"
   ]
  },
  {
   "cell_type": "code",
   "execution_count": 10,
   "metadata": {},
   "outputs": [],
   "source": [
    "def lookup(data, min_x, x, min_y, y):\n",
    "    #print(\"LOOKUP \", min_x, x, y, len(data[0]), len(data))\n",
    "    return data[y-min_y][(x-min_x)]\n",
    "\n",
    "#print(lookup(slice_test, min_x, 500, 0))\n",
    "\n",
    "def edit(data, min_x, x, min_y, y, new):\n",
    "    data[y-min_y][(x-min_x)] = new\n",
    "    return data"
   ]
  },
  {
   "cell_type": "code",
   "execution_count": 11,
   "metadata": {},
   "outputs": [],
   "source": [
    "def plot_S_B(data, grid, min_x, min_y):\n",
    "    for d in data:\n",
    "        edit(grid, min_x, d[0], min_y, d[1], \"S\")\n",
    "        edit(grid, min_x, d[2], min_y, d[3], \"B\")\n",
    "    return grid\n",
    "\n",
    "# printout(plot_S_B(parsed_test_data, grid, min_x, min_y))"
   ]
  },
  {
   "attachments": {},
   "cell_type": "markdown",
   "metadata": {},
   "source": [
    "\n",
    "This isn't necessarily a comprehensive map of all beacons in the area, though. Because each sensor only identifies its closest beacon, if a sensor detects a beacon, you know there are no other beacons that close or closer to that sensor. There could still be beacons that just happen to not be the closest beacon to any sensor. Consider the sensor at 8,7:\n",
    "\n",
    "                1    1    2    2\n",
    "        0    5    0    5    0    5\n",
    "    -2 ..........#.................\n",
    "    -1 .........###................\n",
    "    0 ....S...#####...............\n",
    "    1 .......#######........S.....\n",
    "    2 ......#########S............\n",
    "    3 .....###########SB..........\n",
    "    4 ....#############...........\n",
    "    5 ...###############..........\n",
    "    6 ..#################.........\n",
    "    7 .#########S#######S#........\n",
    "    8 ..#################.........\n",
    "    9 ...###############..........\n",
    "    10 ....B############...........\n",
    "    11 ..S..###########............\n",
    "    12 ......#########.............\n",
    "    13 .......#######..............\n",
    "    14 ........#####.S.......S.....\n",
    "    15 B........###................\n",
    "    16 ..........#SB...............\n",
    "    17 ................S..........B\n",
    "    18 ....S.......................\n",
    "    19 ............................\n",
    "    20 ............S......S........\n",
    "    21 ............................\n",
    "    22 .......................B....\n",
    "\n",
    "This sensor's closest beacon is at 2,10, and so you know there are no beacons that close or closer (in any positions marked #).\n"
   ]
  },
  {
   "cell_type": "code",
   "execution_count": 12,
   "metadata": {},
   "outputs": [],
   "source": [
    "no_beacon = set()\n",
    "\n",
    "grid = init_grid(min_x, max_x, min_y, max_y)\n",
    "grid = plot_S_B(parsed_test_data, grid, min_x, min_y)\n",
    "#printout(grid)\n",
    "\n",
    "def rule_out_positions(sen, min_x, max_x, min_y, max_y, no_beacon):\n",
    "    manhattan = abs(sen[0]-sen[2])+ abs(sen[1]-sen[3])\n",
    "    # current_row - rule out manhattan left and right\n",
    "    for yrange in range((manhattan*-1), manhattan):\n",
    "        y = sen[1]+yrange\n",
    "        for x in range(sen[0]-(manhattan-yrange), sen[0]+(manhattan-yrange)+1):\n",
    "            if x>= min_x and x <= max_x and y >= min_y and y <= max_y:\n",
    "                if x!= sen[2] or y!=sen[3]:\n",
    "                    no_beacon.add((x, y))\n",
    "    # y = sen[1]+1\n",
    "    # for x in range(sen[0]-(manhattan-1), sen[0]+manhattan-1+1):\n",
    "    #     if x>= min_x and x <= max_x and y >= min_y and y <= max_y:\n",
    "    #         no_beacon.add((x, y))\n",
    "    \n",
    "    #row above - rule out manhattan -1 left and right\n",
    "\n",
    "    return no_beacon\n",
    "    \n",
    "for d in parsed_test_data:\n",
    "    no_beacon = rule_out_positions(d, min_x, max_x, min_y, max_y, no_beacon)\n"
   ]
  },
  {
   "cell_type": "code",
   "execution_count": 13,
   "metadata": {},
   "outputs": [
    {
     "name": "stdout",
     "output_type": "stream",
     "text": [
      "# # # # S # # # # # # # # # # # # # # # # # # # # # # #\n",
      "# # # # # # # # # # # # # # # # # # # # # # S # # # # #\n",
      "# # # # # # # # # # # # # # # S # # # # # # # # # # # #\n",
      "# # # # # # # # # # # # # # # # S B # # # # # # # # # #\n",
      "# # # # # # # # # # # # # # # # # # # # # # # # # # # .\n",
      "# # # # # # # # # # # # # # # # # # # # # # # # # # . .\n",
      "# # # # # # # # # # # # # # # # # # # # # # # # # # # #\n",
      ". # # # # # # # # # S # # # # # # # S # # # # # # # # #\n",
      "# # # # # # # # # # # # # # # # # # # # # # # # # # # #\n",
      "# # # # # # # # # # # # # # # # # # # # # # # # # # # #\n",
      "# # # # B # # # # # # # # # # # # # # # # # # # # # # #\n",
      "# # S # # # # # # # # # # # # # # # # # # # # # # # # #\n",
      "# # # # # # # # # # # # # # # # # # # # # # # # # # # #\n",
      "# # # # # # # # # # # # # # # # # # # # # # # # # # # #\n",
      "# # # # # # # # # # # # # # S # # # # # # # S # # # # #\n",
      "B # # # # # # # # # # # # # # # # # # # # # # # # # # #\n",
      "# # # # # # # # # # # S B # # # # # # # # # # # # # # #\n",
      "# # # # # # # # # # # # # # # # S # # # # # # # # # # B\n",
      "# # # # S # # # # # # # # # # # # # # # # # # # # # # #\n",
      "# # # # # # # # # # # # # # # # # # # # # # # # # # # .\n",
      "# # # # # # # # # # # # S # # # # # # S # # # # # # . .\n",
      "# # # # # # # # # # # # # # # # # # # # # # # # # . . .\n",
      ". # # # # # # # . . # # # # # # # # # # # # # B . . . .\n"
     ]
    }
   ],
   "source": [
    "\n",
    "\n",
    "#print(no_beacon)\n",
    "\n",
    "def add_to_grid(no_beacon, grid, min_x, min_y):\n",
    "    for n in no_beacon:\n",
    "        if lookup(grid, min_x, n[0], min_y, n[1]) == \".\":\n",
    "            edit(grid, min_x, n[0], min_y, n[1], \"#\")\n",
    "    return grid\n",
    "\n",
    "grid = add_to_grid(no_beacon, grid, min_x, min_y)\n",
    "\n",
    "printout(grid)"
   ]
  },
  {
   "attachments": {},
   "cell_type": "markdown",
   "metadata": {},
   "source": [
    "\n",
    "None of the detected beacons seem to be producing the distress signal, so you'll need to work out where the distress beacon is by working out where it isn't. For now, keep things simple by counting the positions where a beacon cannot possibly be along just a single row.\n",
    "\n",
    "So, suppose you have an arrangement of beacons and sensors like in the example above and, just in the row where y=10, you'd like to count the number of positions a beacon cannot possibly exist. The coverage from all sensors near that row looks like this:\n",
    "\n",
    "                    1    1    2    2\n",
    "        0    5    0    5    0    5\n",
    "    9 ...#########################...\n",
    "    10 ..####B######################..\n",
    "    11 .###S#############.###########.\n"
   ]
  },
  {
   "cell_type": "code",
   "execution_count": 14,
   "metadata": {},
   "outputs": [
    {
     "data": {
      "text/plain": [
       "28"
      ]
     },
     "execution_count": 14,
     "metadata": {},
     "output_type": "execute_result"
    }
   ],
   "source": [
    "def get_no_beacons_in_row(grid, row, min_x):\n",
    "    sum = 0\n",
    "    for g in grid[row+min_x]:\n",
    "        if g==\"#\" or g==\"S\":\n",
    "            sum = sum+1\n",
    "    return sum\n",
    "\n",
    "get_no_beacons_in_row(grid, 10, min_x)"
   ]
  },
  {
   "cell_type": "markdown",
   "metadata": {},
   "source": [
    "\n",
    "In this example, in the row where y=10, there are 26 positions where a beacon cannot be present.\n",
    "\n",
    "Consult the report from the sensors you just deployed. In the row where y=2000000, how many positions cannot contain a beacon?"
   ]
  }
 ],
 "metadata": {
  "kernelspec": {
   "display_name": "Python 3",
   "language": "python",
   "name": "python3"
  },
  "language_info": {
   "codemirror_mode": {
    "name": "ipython",
    "version": 3
   },
   "file_extension": ".py",
   "mimetype": "text/x-python",
   "name": "python",
   "nbconvert_exporter": "python",
   "pygments_lexer": "ipython3",
   "version": "3.10.4"
  },
  "orig_nbformat": 4,
  "vscode": {
   "interpreter": {
    "hash": "3ad933181bd8a04b432d3370b9dc3b0662ad032c4dfaa4e4f1596c548f763858"
   }
  }
 },
 "nbformat": 4,
 "nbformat_minor": 2
}
