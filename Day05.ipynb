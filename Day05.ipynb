{
 "cells": [
  {
   "cell_type": "markdown",
   "metadata": {},
   "source": [
    "# --- Day 5: Supply Stacks ---\n",
    "\n",
    "The expedition can depart as soon as the final supplies have been unloaded from the ships. Supplies are stored in stacks of marked crates, but because the needed supplies are buried under many other crates, the crates need to be rearranged.\n",
    "\n",
    "The ship has a giant cargo crane capable of moving crates between stacks. To ensure none of the crates get crushed or fall over, the crane operator will rearrange them in a series of carefully-planned steps. After the crates are rearranged, the desired crates will be at the top of each stack.\n",
    "\n",
    "The Elves don't want to interrupt the crane operator during this delicate procedure, but they forgot to ask her which crate will end up where, and they want to be ready to unload them as soon as possible so they can embark.\n",
    "\n",
    "They do, however, have a drawing of the starting stacks of crates and the rearrangement procedure (your puzzle input). For example:\n",
    "\n",
    " "
   ]
  },
  {
   "cell_type": "code",
   "execution_count": 115,
   "metadata": {},
   "outputs": [],
   "source": [
    "test_data =[\n",
    "\"    [D]     \\n\",\n",
    "\"[N] [C]     \\n\",\n",
    "\"[Z] [M] [P] \\n\",\n",
    "\" 1   2   3  \\n\",\n",
    "\"            \\n\",\n",
    "\"move 1 from 2 to 1 \\n\",\n",
    "\"move 3 from 1 to 3 \\n\",\n",
    "\"move 2 from 2 to 1 \\n\",\n",
    "\"move 1 from 1 to 2 \\n\"]\n"
   ]
  },
  {
   "cell_type": "markdown",
   "metadata": {},
   "source": [
    "*first search for how many stacks*\n",
    "*don't want to rely on length of first string but that's another way*\n"
   ]
  },
  {
   "cell_type": "code",
   "execution_count": 116,
   "metadata": {},
   "outputs": [
    {
     "name": "stdout",
     "output_type": "stream",
     "text": [
      "['[Z]', '[N]']\n",
      "['[M]', '[C]', '[D]']\n",
      "['[P]']\n"
     ]
    }
   ],
   "source": [
    "def findNumStacks(elf_data):\n",
    "    i = 0\n",
    "    ns = 0\n",
    "    found = False\n",
    "    while i<len(elf_data) and found is False:\n",
    "        if elf_data[i].startswith(\" 1 \"):\n",
    "            found = True\n",
    "            ns = len(elf_data[i].split())\n",
    "        else: i=i+1\n",
    "    #i stores max height (0 index for elf_data) but probably don't need this\n",
    "    return (ns, elf_data[0:i], elf_data[i+2:])\n",
    "\n",
    "def createStacksInit(st_data, ns):\n",
    "    stacks = [ [] for _ in range(ns) ]\n",
    "    #each element is \" [?]\"  (4 chars long)\n",
    "    for t in range(len(st_data)-1, -1, -1):\n",
    "        for i in range(0, ns):\n",
    "            item = st_data[t][4*i:4*i+3] \n",
    "            if item != \"   \":\n",
    "                stacks[i].append(item)\n",
    "    return stacks\n",
    "\n",
    "(test_num_stacks, test_stack_data, test_instructions) = findNumStacks(test_data)\n",
    "test_elf_stacks = createStacksInit(test_stack_data, test_num_stacks)\n",
    "\n",
    "for s in test_elf_stacks:\n",
    "    print(s)\n"
   ]
  },
  {
   "cell_type": "markdown",
   "metadata": {},
   "source": [
    "In this example, there are three stacks of crates. Stack 1 contains two crates: crate Z is on the bottom, and crate N is on top. Stack 2 contains three crates; from bottom to top, they are crates M, C, and D. Finally, stack 3 contains a single crate, P.\n",
    "\n",
    "Then, the rearrangement procedure is given. In each step of the procedure, a quantity of crates is moved from one stack to a different stack. In the first step of the above rearrangement procedure, one crate is moved from stack 2 to stack 1, resulting in this configuration:\n",
    "\n",
    "[D]        \n",
    "[N] [C]    \n",
    "[Z] [M] [P]\n",
    " 1   2   3 \n",
    "In the second step, three crates are moved from stack 1 to stack 3. Crates are moved one at a time, so the first crate to be moved (D) ends up below the second and third crates:\n",
    "\n",
    "        [Z]\n",
    "        [N]\n",
    "    [C] [D]\n",
    "    [M] [P]\n",
    " 1   2   3\n",
    "Then, both crates are moved from stack 2 to stack 1. Again, because crates are moved one at a time, crate C ends up below crate M:\n",
    "\n",
    "        [Z]\n",
    "        [N]\n",
    "[M]     [D]\n",
    "[C]     [P]\n",
    " 1   2   3\n",
    "Finally, one crate is moved from stack 1 to stack 2:\n",
    "\n",
    "        [Z]\n",
    "        [N]\n",
    "        [D]\n",
    "[C] [M] [P]\n",
    " 1   2   3\n"
   ]
  },
  {
   "cell_type": "markdown",
   "metadata": {},
   "source": [
    "*instructions are in data from num_stacks+2 to end*\n",
    "*read in instructions as tuple(num_to_move, start_stack, finish_stack)*\n",
    "*remember that stacks are labelled from 1, not 0*"
   ]
  },
  {
   "cell_type": "code",
   "execution_count": 117,
   "metadata": {},
   "outputs": [
    {
     "name": "stdout",
     "output_type": "stream",
     "text": [
      "CMZ\n"
     ]
    }
   ],
   "source": [
    "def getInstructions(inst_data):\n",
    "    inst_list = []\n",
    "    for i in inst_data:\n",
    "        inst = i.split()\n",
    "        inst_list.append((int(inst[1]), int(inst[3])-1, int(inst[5])-1))\n",
    "    return inst_list\n",
    "\n",
    "def executeInstructions(inst_data, stacks):\n",
    "    for i in inst_data:\n",
    "        for n in range(i[0]-1, -1, -1):\n",
    "            stacks[i[2]].append(stacks[i[1]].pop())\n",
    "    return stacks\n",
    "            \n",
    "\n",
    "\n",
    "test_instructions_parsed = getInstructions(test_instructions)\n",
    "#print(instructions_parsed)\n",
    "test_new_elf_stacks = executeInstructions(test_instructions_parsed, test_elf_stacks)\n",
    "\n",
    "test_top = []\n",
    "for n in range(test_num_stacks):\n",
    "    test_top.append(test_new_elf_stacks[n][-1][1])\n",
    "\n",
    "print(''.join(test_top))"
   ]
  },
  {
   "cell_type": "markdown",
   "metadata": {},
   "source": []
  },
  {
   "cell_type": "markdown",
   "metadata": {},
   "source": [
    "The Elves just need to know which crate will end up on top of each stack; in this example, the top crates are C in stack 1, M in stack 2, and Z in stack 3, so you should combine these together and give the Elves the message CMZ.\n",
    "\n",
    "After the rearrangement procedure completes, what crate ends up on top of each stack?\n",
    "\n"
   ]
  },
  {
   "cell_type": "markdown",
   "metadata": {},
   "source": [
    "read in input file"
   ]
  },
  {
   "cell_type": "code",
   "execution_count": 118,
   "metadata": {},
   "outputs": [],
   "source": [
    "with open('Day05input.txt') as f:\n",
    "    lines = f.readlines()\n"
   ]
  },
  {
   "cell_type": "code",
   "execution_count": 119,
   "metadata": {},
   "outputs": [
    {
     "name": "stdout",
     "output_type": "stream",
     "text": [
      "['[D]', '[L]', '[J]', '[R]', '[V]', '[G]', '[F]']\n",
      "['[T]', '[P]', '[M]', '[B]', '[V]', '[H]', '[J]', '[S]']\n",
      "['[V]', '[H]', '[M]', '[F]', '[D]', '[G]', '[P]', '[C]']\n",
      "['[M]', '[D]', '[P]', '[N]', '[G]', '[Q]']\n",
      "['[J]', '[L]', '[H]', '[N]', '[F]']\n",
      "['[N]', '[F]', '[V]', '[Q]', '[D]', '[G]', '[T]', '[Z]']\n",
      "['[F]', '[D]', '[B]', '[L]']\n",
      "['[M]', '[J]', '[B]', '[S]', '[V]', '[D]', '[N]']\n",
      "['[G]', '[L]', '[D]']\n"
     ]
    }
   ],
   "source": [
    "\n",
    "(num_stacks, stack_data, instructions) = findNumStacks(lines)\n",
    "elf_stacks = createStacksInit(stack_data, num_stacks)\n",
    "\n",
    "for s in elf_stacks:\n",
    "    print(s)\n",
    "    \n"
   ]
  },
  {
   "cell_type": "code",
   "execution_count": 120,
   "metadata": {},
   "outputs": [
    {
     "name": "stdout",
     "output_type": "stream",
     "text": [
      "QMBMJDFTD\n"
     ]
    }
   ],
   "source": [
    "instructions_parsed = getInstructions(instructions)\n",
    "#print(instructions_parsed)\n",
    "new_elf_stacks = executeInstructions(instructions_parsed, elf_stacks)\n",
    "\n",
    "def printTop(nes, ns):\n",
    "    top = []\n",
    "    for n in range(ns):\n",
    "        top.append(nes[n][-1][1])\n",
    "\n",
    "    print(''.join(top))\n",
    "\n",
    "printTop(new_elf_stacks, num_stacks)"
   ]
  },
  {
   "cell_type": "markdown",
   "metadata": {},
   "source": [
    "# --- Part Two ---\n",
    "As you watch the crane operator expertly rearrange the crates, you notice the process isn't following your prediction.\n",
    "\n",
    "Some mud was covering the writing on the side of the crane, and you quickly wipe it away. The crane isn't a CrateMover 9000 - it's a CrateMover 9001.\n",
    "\n",
    "The CrateMover 9001 is notable for many new and exciting features: air conditioning, leather seats, an extra cup holder, and the ability to pick up and move multiple crates at once.\n",
    "\n",
    "Again considering the example above, the crates begin in the same configuration:\n",
    "\n",
    "    [D]    \n",
    "[N] [C]    \n",
    "[Z] [M] [P]\n",
    " 1   2   3 \n",
    "Moving a single crate from stack 2 to stack 1 behaves the same as before:\n",
    "\n",
    "[D]        \n",
    "[N] [C]    \n",
    "[Z] [M] [P]\n",
    " 1   2   3 \n",
    "However, the action of moving three crates from stack 1 to stack 3 means that those three moved crates stay in the same order, resulting in this new configuration:\n",
    "\n",
    "        [D]\n",
    "        [N]\n",
    "    [C] [Z]\n",
    "    [M] [P]\n",
    " 1   2   3\n",
    "Next, as both crates are moved from stack 2 to stack 1, they retain their order as well:\n",
    "\n",
    "        [D]\n",
    "        [N]\n",
    "[C]     [Z]\n",
    "[M]     [P]\n",
    " 1   2   3\n",
    "Finally, a single crate is still moved from stack 1 to stack 2, but now it's crate C that gets moved:\n",
    "\n",
    "        [D]\n",
    "        [N]\n",
    "        [Z]\n",
    "[M] [C] [P]\n",
    " 1   2   3\n",
    "In this example, the CrateMover 9001 has put the crates in a totally different order: MCD.\n",
    "\n",
    "Before the rearrangement process finishes, update your simulation so that the Elves know where they should stand to be ready to unload the final supplies. After the rearrangement procedure completes, what crate ends up on top of each stack?"
   ]
  },
  {
   "cell_type": "markdown",
   "metadata": {},
   "source": [
    "*just need to edit the moving part*"
   ]
  },
  {
   "cell_type": "markdown",
   "metadata": {},
   "source": [
    "*let's get the test data back into initial states again from processing*"
   ]
  },
  {
   "cell_type": "code",
   "execution_count": 121,
   "metadata": {},
   "outputs": [
    {
     "name": "stdout",
     "output_type": "stream",
     "text": [
      "['[Z]', '[N]']\n",
      "['[M]', '[C]', '[D]']\n",
      "['[P]']\n"
     ]
    }
   ],
   "source": [
    "(test_num_stacks, test_stack_data, test_instructions) = findNumStacks(test_data)\n",
    "test_elf_stacks = createStacksInit(test_stack_data, test_num_stacks)\n",
    "\n",
    "for s in test_elf_stacks:\n",
    "    print(s)\n",
    "\n",
    "test_instructions_parsed = getInstructions(test_instructions)\n"
   ]
  },
  {
   "cell_type": "markdown",
   "metadata": {},
   "source": [
    "*now just need to change execute instructions*"
   ]
  },
  {
   "cell_type": "code",
   "execution_count": 122,
   "metadata": {},
   "outputs": [
    {
     "name": "stdout",
     "output_type": "stream",
     "text": [
      "[['[Z]', '[N]'], ['[M]', '[C]', '[D]'], ['[P]']]\n",
      "MCD\n"
     ]
    }
   ],
   "source": [
    "#def executeInstructions(inst_data, stacks):\n",
    "#    for i in inst_data:\n",
    "#        for n in range(i[0]-1, -1, -1):\n",
    " #           stacks[i[2]].append(stacks[i[1]].pop())\n",
    " #   return stacks\n",
    "\n",
    "def executeInstructions9001(inst_data, stacks):\n",
    "    print(stacks)\n",
    "    for i in inst_data:\n",
    "        #print(i)\n",
    "        n = i[0]\n",
    "        stack_from = i[1]\n",
    "        stack_to = i[2]\n",
    "        l = len(stacks[stack_from])\n",
    "        start = l-n\n",
    "        for x in range(start, l):\n",
    "            stacks[stack_to].append(stacks[stack_from][x])\n",
    "        for x in range(start, l):\n",
    "            stacks[stack_from].pop()\n",
    "        #print(stacks)\n",
    "    return stacks\n",
    "\n",
    "new_elf_stacks = executeInstructions9001(test_instructions_parsed, test_elf_stacks)\n",
    "#new_elf_stacks = executeInstructions9001(instructions_parsed, elf_stacks)\n",
    "\n",
    "printTop(test_elf_stacks, test_num_stacks)#"
   ]
  },
  {
   "cell_type": "markdown",
   "metadata": {},
   "source": [
    "get lines data processed again\n"
   ]
  },
  {
   "cell_type": "code",
   "execution_count": 123,
   "metadata": {},
   "outputs": [
    {
     "name": "stdout",
     "output_type": "stream",
     "text": [
      "['[D]', '[L]', '[J]', '[R]', '[V]', '[G]', '[F]']\n",
      "['[T]', '[P]', '[M]', '[B]', '[V]', '[H]', '[J]', '[S]']\n",
      "['[V]', '[H]', '[M]', '[F]', '[D]', '[G]', '[P]', '[C]']\n",
      "['[M]', '[D]', '[P]', '[N]', '[G]', '[Q]']\n",
      "['[J]', '[L]', '[H]', '[N]', '[F]']\n",
      "['[N]', '[F]', '[V]', '[Q]', '[D]', '[G]', '[T]', '[Z]']\n",
      "['[F]', '[D]', '[B]', '[L]']\n",
      "['[M]', '[J]', '[B]', '[S]', '[V]', '[D]', '[N]']\n",
      "['[G]', '[L]', '[D]']\n"
     ]
    }
   ],
   "source": [
    "\n",
    "(num_stacks, stack_data, instructions) = findNumStacks(lines)\n",
    "elf_stacks = createStacksInit(stack_data, num_stacks)\n",
    "\n",
    "for s in elf_stacks:\n",
    "    print(s)"
   ]
  },
  {
   "cell_type": "code",
   "execution_count": 124,
   "metadata": {},
   "outputs": [
    {
     "name": "stdout",
     "output_type": "stream",
     "text": [
      "[['[D]', '[L]', '[J]', '[R]', '[V]', '[G]', '[F]'], ['[T]', '[P]', '[M]', '[B]', '[V]', '[H]', '[J]', '[S]'], ['[V]', '[H]', '[M]', '[F]', '[D]', '[G]', '[P]', '[C]'], ['[M]', '[D]', '[P]', '[N]', '[G]', '[Q]'], ['[J]', '[L]', '[H]', '[N]', '[F]'], ['[N]', '[F]', '[V]', '[Q]', '[D]', '[G]', '[T]', '[Z]'], ['[F]', '[D]', '[B]', '[L]'], ['[M]', '[J]', '[B]', '[S]', '[V]', '[D]', '[N]'], ['[G]', '[L]', '[D]']]\n",
      "NBTVTJNFJ\n"
     ]
    }
   ],
   "source": [
    "instructions_parsed = getInstructions(instructions)\n",
    "#print(instructions_parsed)\n",
    "new_elf_stacks = executeInstructions9001(instructions_parsed, elf_stacks)\n",
    "\n",
    "\n",
    "printTop(new_elf_stacks, num_stacks)"
   ]
  }
 ],
 "metadata": {
  "kernelspec": {
   "display_name": "Python 3.9.4 64-bit",
   "language": "python",
   "name": "python3"
  },
  "language_info": {
   "codemirror_mode": {
    "name": "ipython",
    "version": 3
   },
   "file_extension": ".py",
   "mimetype": "text/x-python",
   "name": "python",
   "nbconvert_exporter": "python",
   "pygments_lexer": "ipython3",
   "version": "3.9.12"
  },
  "orig_nbformat": 4,
  "vscode": {
   "interpreter": {
    "hash": "aee8b7b246df8f9039afb4144a1f6fd8d2ca17a180786b69acc140d282b71a49"
   }
  }
 },
 "nbformat": 4,
 "nbformat_minor": 2
}
