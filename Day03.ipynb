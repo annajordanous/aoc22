{
 "cells": [
  {
   "cell_type": "markdown",
   "metadata": {},
   "source": [
    "# --- Day 3: Rucksack Reorganization ---\n",
    "\n",
    "One Elf has the important job of loading all of the rucksacks with supplies for the jungle journey. Unfortunately, that Elf didn't quite follow the packing instructions, and so a few items now need to be rearranged.\n",
    "\n",
    "Each rucksack has two large compartments. All items of a given type are meant to go into exactly one of the two compartments. The Elf that did the packing failed to follow this rule for exactly one item type per rucksack.\n",
    "\n",
    "The Elves have made a list of all of the items currently in each rucksack (your puzzle input), but they need your help finding the errors. Every item type is identified by a single lowercase or uppercase letter (that is, a and A refer to different types of items).\n",
    "\n",
    "The list of items for each rucksack is given as characters all on a single line. A given rucksack always has the same number of items in each of its two compartments, so the first half of the characters represent items in the first compartment, while the second half of the characters represent items in the second compartment.\n",
    "\n",
    "For example, suppose you have the following list of contents from six rucksacks:\n",
    "\n",
    "vJrwpWtwJgWrhcsFMMfFFhFp\n",
    "jqHRNqRjqzjGDLGLrsFMfFZSrLrFZsSL\n",
    "PmmdzqPrVvPwwTWBwg\n",
    "wMqvLMZHhHMvwLHjbvcjnnSBnvTQFn\n",
    "ttgJtRGJQctTZtZT\n",
    "CrZsJsPPZsGzwwsLwLmpwMDw\n",
    "The first rucksack contains the items vJrwpWtwJgWrhcsFMMfFFhFp, which means its first compartment contains the items vJrwpWtwJgWr, while the second compartment contains the items hcsFMMfFFhFp. The only item type that appears in both compartments is lowercase p.\n",
    "The second rucksack's compartments contain jqHRNqRjqzjGDLGL and rsFMfFZSrLrFZsSL. The only item type that appears in both compartments is uppercase L.\n",
    "The third rucksack's compartments contain PmmdzqPrV and vPwwTWBwg; the only common item type is uppercase P.\n",
    "The fourth rucksack's compartments only share item type v.\n",
    "The fifth rucksack's compartments only share item type t.\n",
    "The sixth rucksack's compartments only share item type s.\n"
   ]
  },
  {
   "cell_type": "markdown",
   "metadata": {},
   "source": [
    "*let's represent rucksacks test data as lists of two lists*"
   ]
  },
  {
   "cell_type": "code",
   "execution_count": 1,
   "metadata": {},
   "outputs": [
    {
     "name": "stdout",
     "output_type": "stream",
     "text": [
      "vJrwpWtwJgWrhcsFMMfFFhFp\n",
      "jqHRNqRjqzjGDLGLrsFMfFZSrLrFZsSL\n",
      "PmmdzqPrVvPwwTWBwg\n",
      "wMqvLMZHhHMvwLHjbvcjnnSBnvTQFn\n",
      "ttgJtRGJQctTZtZT\n",
      "CrZsJsPPZsGzwwsLwLmpwMDw\n"
     ]
    }
   ],
   "source": [
    "testdata = [\"vJrwpWtwJgWrhcsFMMfFFhFp\", \n",
    "\"jqHRNqRjqzjGDLGLrsFMfFZSrLrFZsSL\", \n",
    "\"PmmdzqPrVvPwwTWBwg\", \n",
    "\"wMqvLMZHhHMvwLHjbvcjnnSBnvTQFn\", \n",
    "\"ttgJtRGJQctTZtZT\", \n",
    "\"CrZsJsPPZsGzwwsLwLmpwMDw\"]\n",
    "\n",
    "def convertDataToRucksack(testStr):\n",
    "    mid = int(len(testStr)/2)\n",
    "    return (testStr[:mid],testStr[mid:])\n",
    "\n",
    "\n",
    "rucksacksTest = []\n",
    "for t in testdata:\n",
    "    print(t)\n",
    "    rucksacksTest.append(convertDataToRucksack(t))"
   ]
  },
  {
   "cell_type": "markdown",
   "metadata": {},
   "source": [
    "*finding common item in both parts of a rucksack*\n",
    "\n",
    "Remember: \n",
    "- The only item type that appears in both compartments is lowercase p.\n",
    "- The second rucksack's compartments contain jqHRNqRjqzjGDLGL and rsFMfFZSrLrFZsSL. The only item type that appears in both compartments is uppercase L.\n",
    "- The third rucksack's compartments contain PmmdzqPrV and vPwwTWBwg; the only common item type is uppercase P.\n",
    "- The fourth rucksack's compartments only share item type v.\n",
    "- The fifth rucksack's compartments only share item type t.\n",
    "- The sixth rucksack's compartments only share item type s."
   ]
  },
  {
   "cell_type": "code",
   "execution_count": 2,
   "metadata": {},
   "outputs": [
    {
     "name": "stdout",
     "output_type": "stream",
     "text": [
      "p\n",
      "L\n",
      "P\n",
      "v\n",
      "t\n",
      "s\n"
     ]
    }
   ],
   "source": [
    "def findCommonItem(rucks):\n",
    "    x = set(rucks[0]).intersection(rucks[1])\n",
    "    return \"\".join(x)           # bit of a hack\n",
    "\n",
    "for r in rucksacksTest:\n",
    "    print(findCommonItem(r))"
   ]
  },
  {
   "cell_type": "markdown",
   "metadata": {},
   "source": [
    "To help prioritize item rearrangement, every item type can be converted to a priority:\n",
    "\n",
    "Lowercase item types a through z have priorities 1 through 26.\n",
    "Uppercase item types A through Z have priorities 27 through 52.\n",
    "In the above example, the priority of the item type that appears in both compartments of each rucksack is 16 (p), 38 (L), 42 (P), 22 (v), 20 (t), and 19 (s); the sum of these is 157.\n"
   ]
  },
  {
   "cell_type": "markdown",
   "metadata": {},
   "source": [
    "*let's calculate priorities*\n",
    "\n",
    "#print(ord(\"a\")) #1 point   -  97      diff 96\n",
    "#print(ord(\"z\")) #26 points -  122     diff 96\n",
    "#print(ord(\"A\")) #27 points -  65      diff 38\n",
    "#print(ord(\"Z\")) #52 points -  90      diff 38\n"
   ]
  },
  {
   "cell_type": "code",
   "execution_count": 3,
   "metadata": {},
   "outputs": [
    {
     "name": "stdout",
     "output_type": "stream",
     "text": [
      "1\n",
      "26\n",
      "27\n",
      "52\n"
     ]
    }
   ],
   "source": [
    "\n",
    "def calcPriorityScore(letter):\n",
    "    x = ord(letter)\n",
    "    if x>=97:  #[a-z]\n",
    "        return x-96\n",
    "    else: return x-38\n",
    "\n",
    "print(calcPriorityScore(\"a\"))  # expect 1\n",
    "print(calcPriorityScore(\"z\"))  # expect 26\n",
    "print(calcPriorityScore(\"A\"))  # expect 27\n",
    "print(calcPriorityScore(\"Z\"))  # expect 52\n"
   ]
  },
  {
   "cell_type": "markdown",
   "metadata": {},
   "source": [
    "\n",
    "Find the item type that appears in both compartments of each rucksack. What is the sum of the priorities of those item types?\n",
    "\n"
   ]
  },
  {
   "cell_type": "markdown",
   "metadata": {},
   "source": [
    "*read in input data from a file* "
   ]
  },
  {
   "cell_type": "code",
   "execution_count": 4,
   "metadata": {},
   "outputs": [],
   "source": [
    "with open('Day03input.txt') as f:\n",
    "    lines = f.readlines()"
   ]
  },
  {
   "cell_type": "markdown",
   "metadata": {},
   "source": [
    "for each line, convert to rucksacks, find the common item, and calculate priority. keep a running total\n"
   ]
  },
  {
   "cell_type": "code",
   "execution_count": 5,
   "metadata": {},
   "outputs": [
    {
     "name": "stdout",
     "output_type": "stream",
     "text": [
      "7737\n"
     ]
    }
   ],
   "source": [
    "totalPriorities = 0\n",
    "\n",
    "for l in lines:\n",
    "    totalPriorities += calcPriorityScore(findCommonItem(convertDataToRucksack(l)))\n",
    "    \n",
    "\n",
    "print(totalPriorities)"
   ]
  },
  {
   "cell_type": "markdown",
   "metadata": {},
   "source": [
    "# --- Part Two ---\n",
    "\n",
    "As you finish identifying the misplaced items, the Elves come to you with another issue.\n",
    "\n",
    "For safety, the Elves are divided into groups of three. Every Elf carries a badge that identifies their group. For efficiency, within each group of three Elves, the badge is the only item type carried by all three Elves. That is, if a group's badge is item type B, then all three Elves will have item type B somewhere in their rucksack, and at most two of the Elves will be carrying any other item type.\n",
    "\n",
    "The problem is that someone forgot to put this year's updated authenticity sticker on the badges. All of the badges need to be pulled out of the rucksacks so the new authenticity stickers can be attached.\n",
    "\n",
    "Additionally, nobody wrote down which item type corresponds to each group's badges. The only way to tell which item type is the right one is by finding the one item type that is common between all three Elves in each group.\n",
    "\n",
    "Every set of three lines in your list corresponds to a single group, but each group can have a different badge item type. So, in the above example, the first group's rucksacks are the first three lines:\n",
    "\n",
    "vJrwpWtwJgWrhcsFMMfFFhFp\n",
    "jqHRNqRjqzjGDLGLrsFMfFZSrLrFZsSL\n",
    "PmmdzqPrVvPwwTWBwg\n",
    "And the second group's rucksacks are the next three lines:\n",
    "\n",
    "wMqvLMZHhHMvwLHjbvcjnnSBnvTQFn\n",
    "ttgJtRGJQctTZtZT\n",
    "CrZsJsPPZsGzwwsLwLmpwMDw\n",
    "In the first group, the only item type that appears in all three rucksacks is lowercase r; this must be their badges. In the second group, their badge item type must be Z.\n"
   ]
  },
  {
   "cell_type": "markdown",
   "metadata": {},
   "source": [
    "# finding the common item across three elves' rucksacks\n",
    "\n"
   ]
  },
  {
   "cell_type": "code",
   "execution_count": 6,
   "metadata": {},
   "outputs": [
    {
     "name": "stdout",
     "output_type": "stream",
     "text": [
      "0\n",
      "r\n",
      "3\n",
      "Z\n"
     ]
    }
   ],
   "source": [
    "def findBadge(testdataSubset):\n",
    "    b = set(testdataSubset[0]).intersection(testdataSubset[1],testdataSubset[2]).difference({'\\n'})\n",
    "    return ''.join(b)\n",
    "\n",
    "index = 0\n",
    "while index <= len(testdata)-2:\n",
    "    print(index)\n",
    "    print(findBadge(testdata[index:(index+3)]))\n",
    "    index += 3"
   ]
  },
  {
   "cell_type": "markdown",
   "metadata": {},
   "source": [
    "\n",
    "Priorities for these items must still be found to organize the sticker attachment efforts: here, they are 18 (r) for the first group and 52 (Z) for the second group. The sum of these is 70.\n",
    "\n",
    "\n",
    "Find the item type that corresponds to the badges of each three-Elf group. What is the sum of the priorities of those item types?"
   ]
  },
  {
   "cell_type": "code",
   "execution_count": 7,
   "metadata": {},
   "outputs": [
    {
     "name": "stdout",
     "output_type": "stream",
     "text": [
      "70\n",
      "2697\n"
     ]
    }
   ],
   "source": [
    "def calcTotalPriorityBadgesScore(data):\n",
    "    priorityScore = 0\n",
    "    index = 0\n",
    "    l = len(data) - 2\n",
    "    while index <= l:\n",
    "        dataSubset = data[index:(index+3)]\n",
    "        priorityScore += calcPriorityScore(findBadge(dataSubset))\n",
    "        index += 3\n",
    "    return priorityScore\n",
    "\n",
    "print(calcTotalPriorityBadgesScore(testdata))\n",
    "print(calcTotalPriorityBadgesScore(lines))"
   ]
  }
 ],
 "metadata": {
  "kernelspec": {
   "display_name": "Python 3.9.4 64-bit ('3.9.4')",
   "language": "python",
   "name": "python3"
  },
  "language_info": {
   "codemirror_mode": {
    "name": "ipython",
    "version": 3
   },
   "file_extension": ".py",
   "mimetype": "text/x-python",
   "name": "python",
   "nbconvert_exporter": "python",
   "pygments_lexer": "ipython3",
   "version": "3.9.4"
  },
  "orig_nbformat": 4,
  "vscode": {
   "interpreter": {
    "hash": "1322063094e41d3e3e06a7cc7d9093f553a57061e5bbe07182dbc0955a20ca1e"
   }
  }
 },
 "nbformat": 4,
 "nbformat_minor": 2
}
