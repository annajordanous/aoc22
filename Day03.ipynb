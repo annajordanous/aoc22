{
 "cells": [
  {
   "cell_type": "markdown",
   "metadata": {},
   "source": [
    "# --- Day 3: Rucksack Reorganization ---\n",
    "\n",
    "One Elf has the important job of loading all of the rucksacks with supplies for the jungle journey. Unfortunately, that Elf didn't quite follow the packing instructions, and so a few items now need to be rearranged.\n",
    "\n",
    "Each rucksack has two large compartments. All items of a given type are meant to go into exactly one of the two compartments. The Elf that did the packing failed to follow this rule for exactly one item type per rucksack.\n",
    "\n",
    "The Elves have made a list of all of the items currently in each rucksack (your puzzle input), but they need your help finding the errors. Every item type is identified by a single lowercase or uppercase letter (that is, a and A refer to different types of items).\n",
    "\n",
    "The list of items for each rucksack is given as characters all on a single line. A given rucksack always has the same number of items in each of its two compartments, so the first half of the characters represent items in the first compartment, while the second half of the characters represent items in the second compartment.\n",
    "\n",
    "For example, suppose you have the following list of contents from six rucksacks:\n",
    "\n",
    "vJrwpWtwJgWrhcsFMMfFFhFp\n",
    "jqHRNqRjqzjGDLGLrsFMfFZSrLrFZsSL\n",
    "PmmdzqPrVvPwwTWBwg\n",
    "wMqvLMZHhHMvwLHjbvcjnnSBnvTQFn\n",
    "ttgJtRGJQctTZtZT\n",
    "CrZsJsPPZsGzwwsLwLmpwMDw\n",
    "The first rucksack contains the items vJrwpWtwJgWrhcsFMMfFFhFp, which means its first compartment contains the items vJrwpWtwJgWr, while the second compartment contains the items hcsFMMfFFhFp. The only item type that appears in both compartments is lowercase p.\n",
    "The second rucksack's compartments contain jqHRNqRjqzjGDLGL and rsFMfFZSrLrFZsSL. The only item type that appears in both compartments is uppercase L.\n",
    "The third rucksack's compartments contain PmmdzqPrV and vPwwTWBwg; the only common item type is uppercase P.\n",
    "The fourth rucksack's compartments only share item type v.\n",
    "The fifth rucksack's compartments only share item type t.\n",
    "The sixth rucksack's compartments only share item type s.\n"
   ]
  },
  {
   "cell_type": "markdown",
   "metadata": {},
   "source": [
    "*let's represent rucksacks test data as lists of two lists*"
   ]
  },
  {
   "cell_type": "code",
   "execution_count": 64,
   "metadata": {},
   "outputs": [
    {
     "name": "stdout",
     "output_type": "stream",
     "text": [
      "vJrwpWtwJgWrhcsFMMfFFhFp\n",
      "jqHRNqRjqzjGDLGLrsFMfFZSrLrFZsSL\n",
      "PmmdzqPrVvPwwTWBwg\n",
      "wMqvLMZHhHMvwLHjbvcjnnSBnvTQFn\n",
      "ttgJtRGJQctTZtZT\n",
      "CrZsJsPPZsGzwwsLwLmpwMDw\n"
     ]
    }
   ],
   "source": [
    "testdata = [\"vJrwpWtwJgWrhcsFMMfFFhFp\", \n",
    "\"jqHRNqRjqzjGDLGLrsFMfFZSrLrFZsSL\", \n",
    "\"PmmdzqPrVvPwwTWBwg\", \n",
    "\"wMqvLMZHhHMvwLHjbvcjnnSBnvTQFn\", \n",
    "\"ttgJtRGJQctTZtZT\", \n",
    "\"CrZsJsPPZsGzwwsLwLmpwMDw\"]\n",
    "\n",
    "def convertDataToRucksack(testStr):\n",
    "    mid = int(len(testStr)/2)\n",
    "    return (testStr[:mid],testStr[mid:])\n",
    "\n",
    "\n",
    "rucksacksTest = []\n",
    "for t in testdata:\n",
    "    print(t)\n",
    "    rucksacksTest.append(convertDataToRucksack(t))"
   ]
  },
  {
   "cell_type": "markdown",
   "metadata": {},
   "source": [
    "*finding common item in both parts of a rucksack*\n",
    "\n",
    "Remember: \n",
    "- The only item type that appears in both compartments is lowercase p.\n",
    "- The second rucksack's compartments contain jqHRNqRjqzjGDLGL and rsFMfFZSrLrFZsSL. The only item type that appears in both compartments is uppercase L.\n",
    "- The third rucksack's compartments contain PmmdzqPrV and vPwwTWBwg; the only common item type is uppercase P.\n",
    "- The fourth rucksack's compartments only share item type v.\n",
    "- The fifth rucksack's compartments only share item type t.\n",
    "- The sixth rucksack's compartments only share item type s."
   ]
  },
  {
   "cell_type": "code",
   "execution_count": 65,
   "metadata": {},
   "outputs": [
    {
     "name": "stdout",
     "output_type": "stream",
     "text": [
      "p\n",
      "L\n",
      "P\n",
      "v\n",
      "t\n",
      "s\n"
     ]
    }
   ],
   "source": [
    "def findCommonItem(rucks):\n",
    "    x = set(rucks[0]).intersection(rucks[1])\n",
    "    return \"\".join(x)           # bit of a hack\n",
    "\n",
    "for r in rucksacksTest:\n",
    "    print(findCommonItem(r))"
   ]
  },
  {
   "cell_type": "markdown",
   "metadata": {},
   "source": [
    "To help prioritize item rearrangement, every item type can be converted to a priority:\n",
    "\n",
    "Lowercase item types a through z have priorities 1 through 26.\n",
    "Uppercase item types A through Z have priorities 27 through 52.\n",
    "In the above example, the priority of the item type that appears in both compartments of each rucksack is 16 (p), 38 (L), 42 (P), 22 (v), 20 (t), and 19 (s); the sum of these is 157.\n"
   ]
  },
  {
   "cell_type": "markdown",
   "metadata": {},
   "source": [
    "*let's calculate priorities*\n",
    "\n",
    "#print(ord(\"a\")) #1 point   -  97      diff 96\n",
    "#print(ord(\"z\")) #26 points -  122     diff 96\n",
    "#print(ord(\"A\")) #27 points -  65      diff 38\n",
    "#print(ord(\"Z\")) #52 points -  90      diff 38\n"
   ]
  },
  {
   "cell_type": "code",
   "execution_count": 66,
   "metadata": {},
   "outputs": [
    {
     "name": "stdout",
     "output_type": "stream",
     "text": [
      "1\n",
      "26\n",
      "27\n",
      "52\n"
     ]
    }
   ],
   "source": [
    "\n",
    "def calcPriorityScore(letter):\n",
    "    x = ord(letter)\n",
    "    if x>=97:  #[a-z]\n",
    "        return x-96\n",
    "    else: return x-38\n",
    "\n",
    "print(calcPriorityScore(\"a\"))  # expect 1\n",
    "print(calcPriorityScore(\"z\"))  # expect 26\n",
    "print(calcPriorityScore(\"A\"))  # expect 27\n",
    "print(calcPriorityScore(\"Z\"))  # expect 52\n"
   ]
  },
  {
   "cell_type": "markdown",
   "metadata": {},
   "source": [
    "\n",
    "Find the item type that appears in both compartments of each rucksack. What is the sum of the priorities of those item types?\n",
    "\n"
   ]
  },
  {
   "cell_type": "markdown",
   "metadata": {},
   "source": [
    "*read in input data from a file* "
   ]
  },
  {
   "cell_type": "code",
   "execution_count": 67,
   "metadata": {},
   "outputs": [],
   "source": [
    "with open('Day03input.txt') as f:\n",
    "    lines = f.readlines()"
   ]
  },
  {
   "cell_type": "markdown",
   "metadata": {},
   "source": [
    "for each line, convert to rucksacks, find the common item, and calculate priority. keep a running total\n"
   ]
  },
  {
   "cell_type": "code",
   "execution_count": 70,
   "metadata": {},
   "outputs": [
    {
     "name": "stdout",
     "output_type": "stream",
     "text": [
      "7737\n"
     ]
    }
   ],
   "source": [
    "totalPriorities = 0\n",
    "\n",
    "for l in lines:\n",
    "    totalPriorities += calcPriorityScore(findCommonItem(convertDataToRucksack(l)))\n",
    "    \n",
    "\n",
    "print(totalPriorities)"
   ]
  }
 ],
 "metadata": {
  "kernelspec": {
   "display_name": "Python 3.9.4 64-bit ('3.9.4')",
   "language": "python",
   "name": "python3"
  },
  "language_info": {
   "codemirror_mode": {
    "name": "ipython",
    "version": 3
   },
   "file_extension": ".py",
   "mimetype": "text/x-python",
   "name": "python",
   "nbconvert_exporter": "python",
   "pygments_lexer": "ipython3",
   "version": "3.9.4"
  },
  "orig_nbformat": 4,
  "vscode": {
   "interpreter": {
    "hash": "1322063094e41d3e3e06a7cc7d9093f553a57061e5bbe07182dbc0955a20ca1e"
   }
  }
 },
 "nbformat": 4,
 "nbformat_minor": 2
}
