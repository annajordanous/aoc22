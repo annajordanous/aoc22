{
 "cells": [
  {
   "cell_type": "code",
   "execution_count": 1,
   "metadata": {},
   "outputs": [
    {
     "name": "stdout",
     "output_type": "stream",
     "text": [
      "['-9263\\n', '9339\\n']\n",
      "['-9263', '9339']\n"
     ]
    }
   ],
   "source": [
    "def readin(filename):\n",
    "    with open(filename) as f:\n",
    "        lines = f.readlines()\n",
    "\n",
    "    #something to remove \\n \n",
    "    str_lines = []\n",
    "    for l in lines:\n",
    "        if l[-1:]==\"\\n\":\n",
    "            str_lines.append(l[0:-1])\n",
    "        else: \n",
    "            str_lines.append(l)\n",
    "\n",
    "    #check all was fine\n",
    "    print(lines[-2:])\n",
    "    print(str_lines[-2:])\n",
    "    return str_lines\n",
    "\n",
    "elf_data = readin(\"Day20input.txt\")"
   ]
  },
  {
   "attachments": {},
   "cell_type": "markdown",
   "metadata": {},
   "source": [
    "# --- Day 20: Grove Positioning System ---\n",
    "\n",
    "It's finally time to meet back up with the Elves. When you try to contact them, however, you get no reply. Perhaps you're out of range?\n",
    "\n",
    "You know they're headed to the grove where the star fruit grows, so if you can figure out where that is, you should be able to meet back up with them.\n",
    "\n",
    "Fortunately, your handheld device has a file (your puzzle input) that contains the grove's coordinates! Unfortunately, the file is encrypted - just in case the device were to fall into the wrong hands.\n",
    "\n",
    "Maybe you can decrypt it?\n",
    "\n",
    "When you were still back at the camp, you overheard some Elves talking about coordinate file encryption. The main operation involved in decrypting the file is called mixing.\n",
    "\n",
    "The encrypted file is a list of numbers. To mix the file, move each number forward or backward in the file a number of positions equal to the value of the number being moved. The list is circular, so moving a number off one end of the list wraps back around to the other end as if the ends were connected.\n",
    "\n",
    "For example, to move the 1 in a sequence like 4, 5, 6, 1, 7, 8, 9, the 1 moves one position forward: 4, 5, 6, 7, 1, 8, 9. To move the -2 in a sequence like 4, -2, 5, 6, 7, 8, 9, the -2 moves two positions backward, wrapping around: 4, 5, 6, 7, 8, -2, 9.\n",
    "\n",
    "The numbers should be moved in the order they originally appear in the encrypted file. Numbers moving around during the mixing process do not change the order in which the numbers are moved.\n",
    "\n",
    "Consider this encrypted file:\n",
    "\n",
    "1\n",
    "2\n",
    "-3\n",
    "3\n",
    "-2\n",
    "0\n",
    "4\n",
    "Mixing this file proceeds as follows:\n",
    "\n",
    "Initial arrangement:\n",
    "1, 2, -3, 3, -2, 0, 4\n",
    "\n",
    "1 moves between 2 and -3:\n",
    "2, 1, -3, 3, -2, 0, 4\n",
    "\n",
    "2 moves between -3 and 3:\n",
    "1, -3, 2, 3, -2, 0, 4\n",
    "\n",
    "-3 moves between -2 and 0:\n",
    "1, 2, 3, -2, -3, 0, 4\n",
    "\n",
    "3 moves between 0 and 4:\n",
    "1, 2, -2, -3, 0, 3, 4\n",
    "\n",
    "-2 moves between 4 and 1:\n",
    "1, 2, -3, 0, 3, 4, -2\n",
    "\n",
    "0 does not move:\n",
    "1, 2, -3, 0, 3, 4, -2\n",
    "\n",
    "4 moves between -3 and 0:\n",
    "1, 2, -3, 4, 0, 3, -2\n",
    "Then, the grove coordinates can be found by looking at the 1000th, 2000th, and 3000th numbers after the value 0, wrapping around the list as necessary. In the above example, the 1000th number after 0 is 4, the 2000th is -3, and the 3000th is 2; adding these together produces 3.\n",
    "\n",
    "Mix your encrypted file exactly once. What is the sum of the three numbers that form the grove coordinates?"
   ]
  }
 ],
 "metadata": {
  "kernelspec": {
   "display_name": "Python 3",
   "language": "python",
   "name": "python3"
  },
  "language_info": {
   "codemirror_mode": {
    "name": "ipython",
    "version": 3
   },
   "file_extension": ".py",
   "mimetype": "text/x-python",
   "name": "python",
   "nbconvert_exporter": "python",
   "pygments_lexer": "ipython3",
   "version": "3.9.4"
  },
  "orig_nbformat": 4,
  "vscode": {
   "interpreter": {
    "hash": "1322063094e41d3e3e06a7cc7d9093f553a57061e5bbe07182dbc0955a20ca1e"
   }
  }
 },
 "nbformat": 4,
 "nbformat_minor": 2
}
