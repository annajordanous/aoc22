{
 "cells": [
  {
   "cell_type": "markdown",
   "metadata": {},
   "source": [
    "# --- Day 2: Rock Paper Scissors ---\n",
    "\n",
    "The Elves begin to set up camp on the beach. To decide whose tent gets to be closest to the snack storage, a giant Rock Paper Scissors tournament is already in progress.\n",
    "\n",
    "Rock Paper Scissors is a game between two players. Each game contains many rounds; in each round, the players each simultaneously choose one of Rock, Paper, or Scissors using a hand shape. Then, a winner for that round is selected: Rock defeats Scissors, Scissors defeats Paper, and Paper defeats Rock. If both players choose the same shape, the round instead ends in a draw.\n",
    "\n"
   ]
  },
  {
   "cell_type": "markdown",
   "metadata": {},
   "source": [
    "Appreciative of your help yesterday, one Elf gives you an encrypted strategy guide (your puzzle input) that they say will be sure to help you win. \"The first column is what your opponent is going to play: A for Rock, B for Paper, and C for Scissors. The second column--\" Suddenly, the Elf is called away to help with someone's tent.\n",
    "\n",
    "The second column, you reason, must be what you should play in response: X for Rock, Y for Paper, and Z for Scissors. Winning every time would be suspicious, so the responses must have been carefully chosen.\n",
    "\n"
   ]
  },
  {
   "cell_type": "markdown",
   "metadata": {},
   "source": [
    "lets play with this a bit, see how the letters correspond to results:"
   ]
  },
  {
   "cell_type": "markdown",
   "metadata": {},
   "source": [
    "oRock (A) beats mScissors (Z)   | A = 2, Z = 0            mRock (X) beats oScissors(C)  | X = 1, C = 1\n",
    "oPaper (B) beats mRock (X)    | B = 0, X = 1            mPaper (Y) beats oRock (A)    | Y = 2,  A = 2\n",
    "oScissors (C) beats mPaper (Y)  | C = 1, Y = 2       mScissors (Z) beats oPaper (B) | Z = 0, B = 0\n",
    "\n",
    "draw: oRock (A) mRock (X) 2, 1\n",
    "draw: oPaper (B) mPaper (Y) 0, 2\n",
    "draw: oScissors(C) mScissors (Z) 1, 0\n",
    "\n",
    "\n",
    "\n"
   ]
  },
  {
   "cell_type": "markdown",
   "metadata": {},
   "source": [
    "(looks like: \n",
    "- if ord(o) % 3 == ord(m) % 3 then m (me) wins. \n",
    "- if ord(o) % 3 == (ord(m+1) % 3) then draw\n",
    "- if ord(o) % 3 == (ord(m-1) % 3) then o (opponent) wins.\n",
    "Might be useful later)"
   ]
  },
  {
   "cell_type": "markdown",
   "metadata": {},
   "source": [
    "The winner of the whole tournament is the player with the highest score. Your total score is the sum of your scores for each round. The score for a single round is the score for the shape you selected (1 for Rock, 2 for Paper, and 3 for Scissors) plus the score for the outcome of the round (0 if you lost, 3 if the round was a draw, and 6 if you won).\n"
   ]
  },
  {
   "cell_type": "markdown",
   "metadata": {},
   "source": [
    "a couple of functions for calculating a result and a score of a round"
   ]
  },
  {
   "cell_type": "code",
   "execution_count": 1,
   "metadata": {},
   "outputs": [
    {
     "name": "stdout",
     "output_type": "stream",
     "text": [
      "8\n",
      "9\n",
      "15\n"
     ]
    }
   ],
   "source": [
    "def resultScore(oppShape, myShape):\n",
    "    if ord(oppShape) % 3 == ord(myShape) % 3:  \n",
    "        return 6    #win\n",
    "    elif ord(oppShape) % 3 == (ord(myShape)+1) % 3: \n",
    "        return 3 #draw\n",
    "    elif ord(oppShape) % 3 == (ord(myShape)-1) % 3: \n",
    "        return 0 #loss\n",
    "    else: \n",
    "        print(\"error with \"+oppShape+myShape)\n",
    "        return None\n",
    "    \n",
    "\n",
    "def roundScorePart1(oppShape, myShape):\n",
    "    return ord(myShape)-87 + resultScore(oppShape,myShape)\n",
    "\n",
    "\n",
    "#checking the test data\n",
    "totalScore=0\n",
    "\n",
    "oppShape = \"A\"\n",
    "myShape = \"Y\"\n",
    "totalScore += roundScorePart1(oppShape, myShape)\n",
    "print(totalScore) # expect score of 8\n",
    "\n",
    "oppShape = \"B\"\n",
    "myShape = \"X\"\n",
    "totalScore  += roundScorePart1(oppShape, myShape)\n",
    "print(totalScore) # expect score of 8 + 1 = 9\n",
    "\n",
    "oppShape = \"C\"\n",
    "myShape = \"Z\"\n",
    "totalScore += roundScorePart1(oppShape, myShape)\n",
    "print(totalScore) # expect score of 9 + 6 = 15\n",
    "\n",
    "\n",
    "    "
   ]
  },
  {
   "cell_type": "markdown",
   "metadata": {},
   "source": [
    "\n",
    "\n",
    "Since you can't be sure if the Elf is trying to help you or trick you, you should calculate the score you would get if you were to follow the strategy guide.\n",
    "\n",
    "For example, suppose you were given the following strategy guide:\n",
    "\n",
    "A Y\n",
    "\n",
    "B X\n",
    "\n",
    "C Z\n",
    "\n",
    "\n",
    "This strategy guide predicts and recommends the following:\n",
    "\n",
    "In the first round, your opponent will choose Rock (A), and you should choose Paper (Y). This ends in a win for you with a score of 8 (2 because you chose Paper + 6 because you won).\n",
    "\n",
    "In the second round, your opponent will choose Paper (B), and you should choose Rock (X). This ends in a loss for you with a score of 1 (1 + 0).\n",
    "\n",
    "The third round is a draw with both players choosing Scissors, giving you a score of 3 + 3 = 6.\n",
    "\n",
    "In this example, if you were to follow the strategy guide, you would get a total score of 15 (8 + 1 + 6).\n",
    "\n",
    "What would your total score be if everything goes exactly according to your strategy guide?"
   ]
  },
  {
   "cell_type": "markdown",
   "metadata": {},
   "source": [
    "read in input data from file"
   ]
  },
  {
   "cell_type": "code",
   "execution_count": 2,
   "metadata": {},
   "outputs": [],
   "source": [
    "with open('Day02input.txt') as f:\n",
    "    lines = f.readlines()"
   ]
  },
  {
   "cell_type": "markdown",
   "metadata": {},
   "source": [
    "now calculate total score"
   ]
  },
  {
   "cell_type": "code",
   "execution_count": 3,
   "metadata": {},
   "outputs": [
    {
     "name": "stdout",
     "output_type": "stream",
     "text": [
      "8890\n"
     ]
    }
   ],
   "source": [
    "totalScore = 0\n",
    "\n",
    "for l in lines:\n",
    "    line = list(l)\n",
    "    oppShape = list(l)[0]\n",
    "    myShape = list(l)[2]\n",
    "    totalScore += roundScorePart1(oppShape, myShape)\n",
    "\n",
    "print(totalScore)"
   ]
  },
  {
   "cell_type": "markdown",
   "metadata": {},
   "source": [
    "# --- Part Two ---\n",
    "\n",
    "The Elf finishes helping with the tent and sneaks back over to you. \"Anyway, the second column says how the round needs to end: X means you need to lose, Y means you need to end the round in a draw, and Z means you need to win. Good luck!\"\n",
    "\n",
    "The total score is still calculated in the same way, but now you need to figure out what shape to choose so the round ends as indicated. The example above now goes like this:\n",
    "\n",
    "In the first round, your opponent will choose Rock (A), and you need the round to end in a draw (Y), so you also choose Rock. This gives you a score of 1 + 3 = 4.\n",
    "In the second round, your opponent will choose Paper (B), and you choose Rock so you lose (X) with a score of 1 + 0 = 1.\n",
    "In the third round, you will defeat your opponent's Scissors with Rock for a score of 1 + 6 = 7.\n",
    "Now that you're correctly decrypting the ultra top secret strategy guide, you would get a total score of 12.\n",
    "\n",
    "Following the Elf's instructions for the second column, what would your total score be if everything goes exactly according to your strategy guide?"
   ]
  },
  {
   "cell_type": "markdown",
   "metadata": {},
   "source": [
    "need new function to calculate score\n"
   ]
  },
  {
   "cell_type": "markdown",
   "metadata": {},
   "source": [
    "X = my loss (0 points)\n",
    "Y = draw (3 points)\n",
    "Z = my win (6 points)"
   ]
  },
  {
   "cell_type": "markdown",
   "metadata": {},
   "source": [
    "let's remember what the ascii for each letter is"
   ]
  },
  {
   "cell_type": "code",
   "execution_count": 4,
   "metadata": {},
   "outputs": [
    {
     "name": "stdout",
     "output_type": "stream",
     "text": [
      "88\n",
      "89\n",
      "90\n",
      "65\n",
      "66\n",
      "67\n"
     ]
    }
   ],
   "source": [
    "print(ord(\"X\"))   # 88 -> 0 points  (88-88)*3 = 0       \n",
    "print(ord(\"Y\"))   # 89 -> 3 points  (89-88)*3 = 3       \n",
    "print(ord(\"Z\"))   # 90 -> 6 points   (90-88)*3 = 6      \n",
    "\n",
    "print(ord(\"A\"))   #65           #oRock\n",
    "print(ord(\"B\"))   #66           #oPaper\n",
    "print(ord(\"C\"))   #67           #oScissors\n"
   ]
  },
  {
   "cell_type": "markdown",
   "metadata": {},
   "source": [
    "Y = Draws \n",
    "    A 65 Rock means I play Rock (1 point)\n",
    "    B 66 Paper means I play Paper (2 points)\n",
    "    C 67 Scissors means I play Scissors (3 points)\n",
    "\n",
    "So for Y, myShape = ord(oppShape) - 64\n",
    "\n",
    "X = my loss\n",
    "    A 65 Rock means I play Scissors (3 points)   \n",
    "    B 66 Paper means I play Rock (1 point)\n",
    "    C 67 Scissors means I play Paper (2 points)\n",
    "\n",
    "will be lazy and just hard code it\n",
    "\n",
    "Z = my win\n",
    "    A 65 Rock means I play Paper (2 points)\n",
    "    B 66 Paper means I play Scissors (3 points)   \n",
    "    C 67 Scissors means I play Rock (1 point)\n",
    "\n",
    "ditto\n"
   ]
  },
  {
   "cell_type": "code",
   "execution_count": 5,
   "metadata": {},
   "outputs": [
    {
     "name": "stdout",
     "output_type": "stream",
     "text": [
      "12\n"
     ]
    }
   ],
   "source": [
    "def lookupLoss(oppShape):\n",
    "    if oppShape == \"A\":\n",
    "        return 3\n",
    "    else: \n",
    "        return ord(oppShape) - 65\n",
    "\n",
    "def lookupWin(oppShape):\n",
    "    if oppShape == \"C\":\n",
    "        return 1\n",
    "    else: \n",
    "        return ord(oppShape) - 63\n",
    "\n",
    "def roundScorePart2(oppShape, result):\n",
    "    if result == \"Y\":   #draw = 3 points + my shape score\n",
    "        return ord(oppShape) - 64 + 3\n",
    "    elif result == \"X\":   #I lose = 0 points + my shape score\n",
    "        return lookupLoss(oppShape) + 0\n",
    "    elif result == \"Z\":    #I win = 6 points + my shape score\n",
    "        return lookupWin(oppShape) + 6\n",
    "    else: \n",
    "        print(\"error with \"+oppShape+result)\n",
    "        return None\n",
    "\n",
    "#Test data\n",
    "totalScore = 0\n",
    "\n",
    "#In the first round, your opponent will choose Rock (A), and you need the round to end in a draw (Y), so you also choose Rock. This gives you a score of 1 + 3 = 4.\n",
    "totalScore += roundScorePart2(\"A\", \"Y\")  # = 4 ?\n",
    "#In the second round, your opponent will choose Paper (B), and you choose Rock so you lose (X) with a score of 1 + 0 = 1.\n",
    "totalScore += roundScorePart2(\"B\", \"X\")  # = 1 ?\"\n",
    "#In the third round, you will defeat your opponent's Scissors with Rock for a score of 1 + 6 = 7.\n",
    "totalScore += roundScorePart2(\"C\", \"Z\")  #  = 7 ?\"\n",
    "#Now that you're correctly decrypting the ultra top secret strategy guide, you would get a total score of 12.\n",
    "\n",
    "print(totalScore)\n",
    "\n"
   ]
  },
  {
   "cell_type": "markdown",
   "metadata": {},
   "source": [
    "now calculate new total score"
   ]
  },
  {
   "cell_type": "code",
   "execution_count": 6,
   "metadata": {},
   "outputs": [
    {
     "name": "stdout",
     "output_type": "stream",
     "text": [
      "10238\n"
     ]
    }
   ],
   "source": [
    "totalScore = 0\n",
    "\n",
    "for l in lines:\n",
    "    line = list(l)\n",
    "    oppShape = list(l)[0]\n",
    "    myShape = list(l)[2]\n",
    "    totalScore += roundScorePart2(oppShape, myShape)\n",
    "\n",
    "print(totalScore)"
   ]
  }
 ],
 "metadata": {
  "kernelspec": {
   "display_name": "Python 3.9.4 64-bit ('3.9.4')",
   "language": "python",
   "name": "python3"
  },
  "language_info": {
   "codemirror_mode": {
    "name": "ipython",
    "version": 3
   },
   "file_extension": ".py",
   "mimetype": "text/x-python",
   "name": "python",
   "nbconvert_exporter": "python",
   "pygments_lexer": "ipython3",
   "version": "3.9.4"
  },
  "orig_nbformat": 4,
  "vscode": {
   "interpreter": {
    "hash": "1322063094e41d3e3e06a7cc7d9093f553a57061e5bbe07182dbc0955a20ca1e"
   }
  }
 },
 "nbformat": 4,
 "nbformat_minor": 2
}
