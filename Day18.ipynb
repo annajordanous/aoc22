{
 "cells": [
  {
   "cell_type": "code",
   "execution_count": 2,
   "metadata": {},
   "outputs": [],
   "source": [
    "def readin(filename):\n",
    "    with open(filename) as f:\n",
    "        lines = f.readlines()\n",
    "\n",
    "    #something to remove \\n \n",
    "    str_lines = []\n",
    "    for l in lines:\n",
    "        if l[-1:]==\"\\n\":\n",
    "            str_lines.append(l[0:-1])\n",
    "        else: \n",
    "            str_lines.append(l)\n",
    "\n",
    "    #check all was fine\n",
    "    # print(lines[-2:])\n",
    "    # print(str_lines[-2:])\n",
    "    return str_lines\n",
    "\n",
    "elf_data = readin(\"Day18input.txt\")"
   ]
  },
  {
   "attachments": {},
   "cell_type": "markdown",
   "metadata": {},
   "source": [
    "# --- Day 18: Boiling Boulders ---\n",
    "\n",
    "You and the elephants finally reach fresh air. You've emerged near the base of a large volcano that seems to be actively erupting! Fortunately, the lava seems to be flowing away from you and toward the ocean.\n",
    "\n",
    "Bits of lava are still being ejected toward you, so you're sheltering in the cavern exit a little longer. Outside the cave, you can see the lava landing in a pond and hear it loudly hissing as it solidifies.\n",
    "\n",
    "Depending on the specific compounds in the lava and speed at which it cools, it might be forming obsidian! The cooling rate should be based on the surface area of the lava droplets, so you take a quick scan of a droplet as it flies past you (your puzzle input).\n",
    "\n",
    "Because of how quickly the lava is moving, the scan isn't very good; its resolution is quite low and, as a result, it approximates the shape of the lava droplet with 1x1x1 cubes on a 3D grid, each given as its x,y,z position.\n",
    "\n",
    "To approximate the surface area, count the number of sides of each cube that are not immediately connected to another cube. So, if your scan were only two adjacent cubes like 1,1,1 and 2,1,1, each cube would have a single side covered and five sides exposed, a total surface area of 10 sides.\n",
    "\n",
    "Here's a larger example:\n",
    "\n",
    "    2,2,2\n",
    "    1,2,2\n",
    "    3,2,2\n",
    "    2,1,2\n",
    "    2,3,2\n",
    "    2,2,1\n",
    "    2,2,3\n",
    "    2,2,4\n",
    "    2,2,6\n",
    "    1,2,5\n",
    "    3,2,5\n",
    "    2,1,5\n",
    "    2,3,5\n",
    "\n",
    "In the above example, after counting up all the sides that aren't connected to another cube, the total surface area is 64.\n",
    "\n",
    "What is the surface area of your scanned lava droplet?"
   ]
  }
 ],
 "metadata": {
  "kernelspec": {
   "display_name": "Python 3",
   "language": "python",
   "name": "python3"
  },
  "language_info": {
   "codemirror_mode": {
    "name": "ipython",
    "version": 3
   },
   "file_extension": ".py",
   "mimetype": "text/x-python",
   "name": "python",
   "nbconvert_exporter": "python",
   "pygments_lexer": "ipython3",
   "version": "3.9.4"
  },
  "orig_nbformat": 4,
  "vscode": {
   "interpreter": {
    "hash": "1322063094e41d3e3e06a7cc7d9093f553a57061e5bbe07182dbc0955a20ca1e"
   }
  }
 },
 "nbformat": 4,
 "nbformat_minor": 2
}
