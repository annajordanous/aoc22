{
 "cells": [
  {
   "cell_type": "code",
   "execution_count": 7,
   "metadata": {},
   "outputs": [
    {
     "name": "stdout",
     "output_type": "stream",
     "text": [
      "['000032030402033315113220225514041611664662663525144303562161423513133325130431534323303033322212313\\n', '101211324120322333355055001035515221630532526633042003421442155144120444232152535003241233413001002\\n']\n",
      "['000032030402033315113220225514041611664662663525144303562161423513133325130431534323303033322212313', '101211324120322333355055001035515221630532526633042003421442155144120444232152535003241233413001002']\n"
     ]
    }
   ],
   "source": [
    "with open('Day08input.txt') as f:\n",
    "    lines = f.readlines()\n",
    "\n",
    "#something to remove \\n \n",
    "str_lines = []\n",
    "for l in lines:\n",
    "    str_lines.append(l[0:-1])#''.join(lines[0:len(lines[0])-2])\n",
    "\n",
    "#check all was fine\n",
    "print(lines[-2:])\n",
    "print(str_lines[-2:])"
   ]
  },
  {
   "attachments": {},
   "cell_type": "markdown",
   "metadata": {},
   "source": [
    "#--- Day 8: Treetop Tree House ---\n",
    "\n",
    "The expedition comes across a peculiar patch of tall trees all planted carefully in a grid. The Elves explain that a previous expedition planted these trees as a reforestation effort. Now, they're curious if this would be a good location for a tree house.\n",
    "\n",
    "First, determine whether there is enough tree cover here to keep a tree house hidden. To do this, you need to count the number of trees that are visible from outside the grid when looking directly along a row or column.\n",
    "\n",
    "The Elves have already launched a quadcopter to generate a map with the height of each tree (your puzzle input). For example:"
   ]
  },
  {
   "cell_type": "code",
   "execution_count": 8,
   "metadata": {},
   "outputs": [],
   "source": [
    "test_data = [\"30373\", \n",
    "\"25512\", \n",
    "\"65332\", \n",
    "\"33549\", \n",
    "\"35390\"]"
   ]
  },
  {
   "attachments": {},
   "cell_type": "markdown",
   "metadata": {},
   "source": [
    "*dimensions in the grid?*\n"
   ]
  },
  {
   "cell_type": "code",
   "execution_count": 9,
   "metadata": {},
   "outputs": [],
   "source": [
    "def get_dimensions(elf_data):\n",
    "    return len(elf_data)\n",
    "    "
   ]
  },
  {
   "cell_type": "code",
   "execution_count": 10,
   "metadata": {},
   "outputs": [
    {
     "name": "stdout",
     "output_type": "stream",
     "text": [
      "5\n",
      "99\n"
     ]
    }
   ],
   "source": [
    "print(get_dimensions(test_data))\n",
    "print(get_dimensions(str_lines))"
   ]
  },
  {
   "attachments": {},
   "cell_type": "markdown",
   "metadata": {},
   "source": [
    "Each tree is represented as a single digit whose value is its height, where 0 is the shortest and 9 is the tallest.\n",
    "\n",
    "A tree is visible if all of the other trees between it and an edge of the grid are shorter than it. Only consider trees in the same row or column; that is, only look up, down, left, or right from any given tree.\n",
    "\n",
    "All of the trees around the edge of the grid are visible - since they are already on the edge, there are no trees to block the view. In this example, that only leaves the interior nine trees to consider:\n"
   ]
  },
  {
   "cell_type": "code",
   "execution_count": 11,
   "metadata": {},
   "outputs": [],
   "source": [
    "def count_visible(elf_data):\n",
    "    dim = get_dimensions(elf_data)\n",
    "    # all trees around the edge are visible\n",
    "    num_visible = (2 * dim) + (2 * (dim-2))\n",
    "    for x in range(1, dim-1):\n",
    "        #str_row = ''\n",
    "        for y in range(1, dim-1):\n",
    "            current_tree = int(elf_data[x][y])\n",
    "            #check row\n",
    "            if (isGreaterThan(current_tree, elf_data[x][0:y]) or isGreaterThan(current_tree, elf_data[x][y+1:dim])):\n",
    "                num_visible = num_visible+1\n",
    "            else: #check above\n",
    "                above = ''\n",
    "                for c in range(0, x):\n",
    "                    above=above+elf_data[c][y]\n",
    "                if isGreaterThan(current_tree, above):\n",
    "                    num_visible = num_visible+1\n",
    "                else: #check below\n",
    "                    below = ''\n",
    "                    for c in range (x+1, dim):\n",
    "                        below = below+elf_data[c][y]\n",
    "                    if isGreaterThan(current_tree, below):\n",
    "                        num_visible = num_visible+1\n",
    "    return num_visible\n",
    "\n",
    "def isGreaterThan(x, elf_subset):\n",
    "    xGreaterThan = True\n",
    "    i = 0\n",
    "    while xGreaterThan and i<len(elf_subset):\n",
    "        if x <= int(elf_subset[i]):\n",
    "            xGreaterThan = False\n",
    "        else:\n",
    "            i = i+1\n",
    "    #print(x, elf_subset, xGreaterThan)\n",
    "    return xGreaterThan\n",
    "\n"
   ]
  },
  {
   "cell_type": "code",
   "execution_count": 12,
   "metadata": {},
   "outputs": [
    {
     "name": "stdout",
     "output_type": "stream",
     "text": [
      "1715\n"
     ]
    }
   ],
   "source": [
    "#print(count_visible(test_data))\n",
    "print(count_visible(str_lines))"
   ]
  },
  {
   "cell_type": "markdown",
   "metadata": {},
   "source": [
    "\n",
    "The top-left 5 is visible from the left and top. (It isn't visible from the right or bottom since other trees of height 5 are in the way.)\n",
    "The top-middle 5 is visible from the top and right.\n",
    "The top-right 1 is not visible from any direction; for it to be visible, there would need to only be trees of height 0 between it and an edge.\n",
    "The left-middle 5 is visible, but only from the right.\n",
    "The center 3 is not visible from any direction; for it to be visible, there would need to be only trees of at most height 2 between it and an edge.\n",
    "The right-middle 3 is visible from the right.\n",
    "In the bottom row, the middle 5 is visible, but the 3 and 4 are not.\n",
    "With 16 trees visible on the edge and another 5 visible in the interior, a total of 21 trees are visible in this arrangement.\n",
    "\n",
    "Consider your map; how many trees are visible from outside the grid?\n",
    "\n"
   ]
  }
 ],
 "metadata": {
  "kernelspec": {
   "display_name": "Python 3.9.12 64-bit",
   "language": "python",
   "name": "python3"
  },
  "language_info": {
   "codemirror_mode": {
    "name": "ipython",
    "version": 3
   },
   "file_extension": ".py",
   "mimetype": "text/x-python",
   "name": "python",
   "nbconvert_exporter": "python",
   "pygments_lexer": "ipython3",
   "version": "3.9.12"
  },
  "orig_nbformat": 4,
  "vscode": {
   "interpreter": {
    "hash": "949777d72b0d2535278d3dc13498b2535136f6dfe0678499012e853ee9abcab1"
   }
  }
 },
 "nbformat": 4,
 "nbformat_minor": 2
}
